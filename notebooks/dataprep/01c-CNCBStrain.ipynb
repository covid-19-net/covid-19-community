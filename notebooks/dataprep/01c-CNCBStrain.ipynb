{
 "cells": [
  {
   "cell_type": "markdown",
   "metadata": {},
   "source": [
    "# Load SARS-CoV-2 Virus Strain Metadata from CNCB\n",
    "**[Work in progress]**\n",
    "\n",
    "This notebook downloads and standardizes viral strain data from CNCB for ingestion into a Knowledge Graph.\n",
    "\n",
    "Data source: [China National Center for Bioinformation, 2019 Novel Coronavirus Resource (2019nCoVR)](https://bigd.big.ac.cn/ncov/release_genome)\n",
    "\n",
    "Author: Peter Rose (pwrose@ucsd.edu)"
   ]
  },
  {
   "cell_type": "code",
   "execution_count": 1,
   "metadata": {},
   "outputs": [],
   "source": [
    "import os\n",
    "import shutil\n",
    "import glob\n",
    "import ftplib\n",
    "import re\n",
    "import requests\n",
    "import json\n",
    "import dateutil\n",
    "import pandas as pd\n",
    "import numpy as np\n",
    "from pathlib import Path"
   ]
  },
  {
   "cell_type": "code",
   "execution_count": 2,
   "metadata": {},
   "outputs": [],
   "source": [
    "pd.options.display.max_rows = None  # display all rows\n",
    "pd.options.display.max_columns = None  # display all columsns"
   ]
  },
  {
   "cell_type": "code",
   "execution_count": 3,
   "metadata": {},
   "outputs": [],
   "source": [
    "# Pangolin lineage (https://github.com/cov-lineages/pangolin)\n",
    "source = 'CNCB'\n",
    "software = 'pangolin v.2.3.2'"
   ]
  },
  {
   "cell_type": "code",
   "execution_count": 4,
   "metadata": {},
   "outputs": [],
   "source": [
    "metadata_url = \"https://bigd.big.ac.cn/ncov/genome/export/meta\""
   ]
  },
  {
   "cell_type": "code",
   "execution_count": 5,
   "metadata": {},
   "outputs": [
    {
     "name": "stdout",
     "output_type": "stream",
     "text": [
      "/Users/peter/Library/Application Support/com.Neo4j.Relate/data/dbmss/dbms-8bf637fc-0d20-4d9f-9c6f-f7e72e92a4da/import\n"
     ]
    }
   ],
   "source": [
    "# Path will take care of handling operating system differences.\n",
    "NEO4J_IMPORT = Path(os.getenv('NEO4J_IMPORT'))\n",
    "print(NEO4J_IMPORT)"
   ]
  },
  {
   "cell_type": "markdown",
   "metadata": {},
   "source": [
    "### Download strain metadata"
   ]
  },
  {
   "cell_type": "code",
   "execution_count": null,
   "metadata": {},
   "outputs": [],
   "source": [
    "df = pd.read_excel(metadata_url, dtype='str')"
   ]
  },
  {
   "cell_type": "code",
   "execution_count": null,
   "metadata": {},
   "outputs": [],
   "source": [
    "df.fillna('', inplace=True)"
   ]
  },
  {
   "cell_type": "code",
   "execution_count": null,
   "metadata": {},
   "outputs": [],
   "source": [
    "print(\"Total number of strains:\", df.shape[0])"
   ]
  },
  {
   "cell_type": "code",
   "execution_count": null,
   "metadata": {},
   "outputs": [],
   "source": [
    "df.head(5)"
   ]
  },
  {
   "cell_type": "markdown",
   "metadata": {},
   "source": [
    "### Assign identifiers, aliases, and assign compact identifiers (CURIES)"
   ]
  },
  {
   "cell_type": "code",
   "execution_count": null,
   "metadata": {},
   "outputs": [],
   "source": [
    "# https://registry.identifiers.org/registry/insdc\n",
    "insdc_pattern = re.compile('^([A-Z]\\d{5}|[A-Z]{2}\\d{6}|[A-Z]{4}\\d{8}|[A-J][A-Z]{2}\\d{5})(\\.\\d+)?$')\n",
    "# https://registry.identifiers.org/registry/refseq\n",
    "refseq_pattern = re.compile('^(((AC|AP|NC|NG|NM|NP|NR|NT|NW|XM|XP|XR|YP|ZP)_\\d+)|(NZ\\_[A-Z]{2,4}\\d+))(\\.\\d+)?$')\n",
    "epi_pattern = re.compile('^EPI_ISL_\\d+$')"
   ]
  },
  {
   "cell_type": "code",
   "execution_count": null,
   "metadata": {},
   "outputs": [],
   "source": [
    "def assign_curie(id):\n",
    "    id = id.strip()\n",
    "    if len(id) > 0:\n",
    "        if epi_pattern.match(id) != None:\n",
    "            return 'https://www.gisaid.org/' + id\n",
    "        elif refseq_pattern.match(id) != None:\n",
    "            return 'refseq:' + id\n",
    "        elif insdc_pattern.match(id) != None:\n",
    "            return 'insdc:' + id\n",
    "        else:\n",
    "            # TODO are URIs available for these cases?\n",
    "            return id\n",
    "    else:\n",
    "        return id"
   ]
  },
  {
   "cell_type": "code",
   "execution_count": null,
   "metadata": {},
   "outputs": [],
   "source": [
    "def assign_curies(ids):\n",
    "    return [assign_curie(id) for id in ids.split(',')]"
   ]
  },
  {
   "cell_type": "code",
   "execution_count": null,
   "metadata": {},
   "outputs": [],
   "source": [
    "def get_gisaid_id(ids):\n",
    "    for id in ids:\n",
    "        if id.startswith('https://www.gisaid.org/'):\n",
    "            return id\n",
    "        \n",
    "    return ''"
   ]
  },
  {
   "cell_type": "markdown",
   "metadata": {},
   "source": [
    "#### Rename and concatenate fields"
   ]
  },
  {
   "cell_type": "code",
   "execution_count": null,
   "metadata": {},
   "outputs": [],
   "source": [
    "df['Related ID'] = df['Related ID'].str.replace('-', '')\n",
    "\n",
    "# combine all ids into an accession column and assign curies\n",
    "df['accessions'] = df['Accession ID'] + df['Related ID'].apply(lambda s: ',' + s if len(s) > 0 else s)\n",
    "df['accessions'] = df['accessions'].apply(assign_curies)\n",
    "df['gisaidId'] = df['accessions'].apply(get_gisaid_id)\n",
    "df['accessions'] = df['accessions'].apply(lambda x: ';'.join(x))\n",
    "df['accession'] = df['Accession ID'].apply(lambda s: assign_curie(s))"
   ]
  },
  {
   "cell_type": "code",
   "execution_count": null,
   "metadata": {},
   "outputs": [],
   "source": [
    "df.rename(columns={'Data Source': 'source'}, inplace=True)\n",
    "df.rename(columns={'Sequence Length': 'sequenceLength'}, inplace=True)\n",
    "df.rename(columns={'Sequence Quality': 'sequenceQuality'}, inplace=True)\n",
    "df.rename(columns={'Quality Assessment': 'qualityAssessment'}, inplace=True)\n",
    "df.rename(columns={'Originating Lab': 'originatingLab'}, inplace=True)\n",
    "df.rename(columns={'Virus Strain Name': 'name'}, inplace=True)\n",
    "df.rename(columns={'Sample Collection Date':'collectionDate'},inplace=True)\n",
    "df.rename(columns={'Location':'location'}, inplace=True)\n",
    "df.rename(columns={'Lineage': 'lineage'}, inplace=True)"
   ]
  },
  {
   "cell_type": "code",
   "execution_count": null,
   "metadata": {},
   "outputs": [],
   "source": [
    "df['lineage'] = df['lineage'].str.replace('-', '')\n",
    "df['lineage'] = df['lineage'].str.replace('None', '')"
   ]
  },
  {
   "cell_type": "code",
   "execution_count": null,
   "metadata": {},
   "outputs": [],
   "source": [
    "print(df['lineage'].unique())"
   ]
  },
  {
   "cell_type": "markdown",
   "metadata": {},
   "source": [
    "Remove invalid collection date"
   ]
  },
  {
   "cell_type": "code",
   "execution_count": null,
   "metadata": {},
   "outputs": [],
   "source": [
    "df.query(\"collectionDate == '2020-00-00'\")"
   ]
  },
  {
   "cell_type": "code",
   "execution_count": null,
   "metadata": {},
   "outputs": [],
   "source": [
    "df['collectionDate'] = df['collectionDate'].apply(lambda d: '' if d == '2020-00-00' else d)"
   ]
  },
  {
   "cell_type": "code",
   "execution_count": null,
   "metadata": {},
   "outputs": [],
   "source": [
    "df['collectionDate'] = df['collectionDate'].apply(lambda d: dateutil.parser.parse(d) if len(d) > 0 else '')"
   ]
  },
  {
   "cell_type": "code",
   "execution_count": null,
   "metadata": {},
   "outputs": [],
   "source": [
    "df.fillna('', inplace=True)"
   ]
  },
  {
   "cell_type": "code",
   "execution_count": null,
   "metadata": {},
   "outputs": [],
   "source": [
    "df[df['accessions'].str.contains('refseq:NC_045512')]"
   ]
  },
  {
   "cell_type": "code",
   "execution_count": null,
   "metadata": {},
   "outputs": [],
   "source": [
    "df.head()"
   ]
  },
  {
   "cell_type": "markdown",
   "metadata": {},
   "source": [
    "#### Assign taxonomy ids"
   ]
  },
  {
   "cell_type": "code",
   "execution_count": null,
   "metadata": {},
   "outputs": [],
   "source": [
    "# read Organism reference dictionary\n",
    "organism_to_id = dict()\n",
    "data = pd.read_csv(\"../../reference_data/OrganismDictionary.csv\", comment='#')\n",
    "for index, row in data.iterrows():\n",
    "    organism_to_id[row['organism']] = row['taxonomyId']"
   ]
  },
  {
   "cell_type": "code",
   "execution_count": null,
   "metadata": {},
   "outputs": [],
   "source": [
    "print(organism_to_id)"
   ]
  },
  {
   "cell_type": "code",
   "execution_count": null,
   "metadata": {},
   "outputs": [],
   "source": [
    "# assign taxonomy id to host\n",
    "df['host'] = df['Host'].str.strip()\n",
    "df['hostTaxonomyId'] = df['host'].apply(lambda s: organism_to_id.get(s.lower(), s))\n",
    "df['hostTaxonomyId'].unique()"
   ]
  },
  {
   "cell_type": "code",
   "execution_count": null,
   "metadata": {},
   "outputs": [],
   "source": [
    "df['taxonomyId'] = 'taxonomy:2697049' # SARS-CoV-2"
   ]
  },
  {
   "cell_type": "markdown",
   "metadata": {},
   "source": [
    "#### Standardize location information"
   ]
  },
  {
   "cell_type": "code",
   "execution_count": null,
   "metadata": {},
   "outputs": [],
   "source": [
    "df[['loc0', 'loc1', 'loc2', 'loc3']] = df['location'].str.split('/', n=3, expand=True)\n",
    "# strip white space\n",
    "df = df.apply(lambda x: x.str.strip() if x.dtype == \"object\" else x)"
   ]
  },
  {
   "cell_type": "code",
   "execution_count": null,
   "metadata": {},
   "outputs": [],
   "source": [
    "df['origLocation'] = df[['loc0', 'loc1', 'loc2', 'loc3']].apply(\n",
    "    lambda x: ','.join(x.dropna().astype(str)),\n",
    "    axis=1\n",
    ")"
   ]
  },
  {
   "cell_type": "markdown",
   "metadata": {},
   "source": [
    "### Save strain metadata"
   ]
  },
  {
   "cell_type": "code",
   "execution_count": null,
   "metadata": {},
   "outputs": [],
   "source": [
    "strains = df[['name', 'accession', 'accessions', 'gisaidId', 'source', 'taxonomyId', 'hostTaxonomyId', \n",
    "              'lineage', 'sequenceLength', 'sequenceQuality', 'qualityAssessment', 'collectionDate',\n",
    "              'location', 'origLocation', 'originatingLab']].copy()"
   ]
  },
  {
   "cell_type": "code",
   "execution_count": null,
   "metadata": {},
   "outputs": [],
   "source": [
    "strains.head()"
   ]
  },
  {
   "cell_type": "code",
   "execution_count": null,
   "metadata": {},
   "outputs": [],
   "source": [
    "print('Number of strains:',strains.shape[0])"
   ]
  },
  {
   "cell_type": "code",
   "execution_count": null,
   "metadata": {},
   "outputs": [],
   "source": [
    "strains.to_csv(NEO4J_IMPORT / \"01c-CNCBStrainPre.csv\", index=False)"
   ]
  }
 ],
 "metadata": {
  "kernelspec": {
   "display_name": "Python 3",
   "language": "python",
   "name": "python3"
  },
  "language_info": {
   "codemirror_mode": {
    "name": "ipython",
    "version": 3
   },
   "file_extension": ".py",
   "mimetype": "text/x-python",
   "name": "python",
   "nbconvert_exporter": "python",
   "pygments_lexer": "ipython3",
   "version": "3.7.10"
  }
 },
 "nbformat": 4,
 "nbformat_minor": 4
}
