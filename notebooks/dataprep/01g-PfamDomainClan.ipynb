{
 "cells": [
  {
   "cell_type": "markdown",
   "metadata": {},
   "source": [
    "# Pfam Domain and Clan Data\n",
    "**[Work in progress]**\n",
    "\n",
    "This notebook downloads Pfam domain and clan (family) data.\n",
    "\n",
    "Data source: [Pfam](https://pfam.xfam.org/)\n",
    "\n",
    "Author: Peter Rose (pwrose@ucsd.edu)"
   ]
  },
  {
   "cell_type": "code",
   "execution_count": 1,
   "metadata": {},
   "outputs": [],
   "source": [
    "import os\n",
    "import pandas as pd\n",
    "from pathlib import Path"
   ]
  },
  {
   "cell_type": "code",
   "execution_count": 2,
   "metadata": {},
   "outputs": [],
   "source": [
    "pd.options.display.max_rows = None  # display all rows\n",
    "pd.options.display.max_columns = None  # display all columsns"
   ]
  },
  {
   "cell_type": "code",
   "execution_count": 3,
   "metadata": {},
   "outputs": [
    {
     "name": "stdout",
     "output_type": "stream",
     "text": [
      "/Users/peter/Library/Application Support/com.Neo4j.Relate/data/dbmss/dbms-8bf637fc-0d20-4d9f-9c6f-f7e72e92a4da/import\n"
     ]
    }
   ],
   "source": [
    "NEO4J_IMPORT = Path(os.getenv('NEO4J_IMPORT'))\n",
    "print(NEO4J_IMPORT)"
   ]
  },
  {
   "cell_type": "markdown",
   "metadata": {},
   "source": [
    "### Download data"
   ]
  },
  {
   "cell_type": "code",
   "execution_count": 4,
   "metadata": {},
   "outputs": [],
   "source": [
    "pfam_url = 'ftp://ftp.ebi.ac.uk/pub/databases/Pfam/current_release/Pfam-A.clans.tsv.gz'\n",
    "#pfam_url = 'ftp://ftp.ebi.ac.uk/pub/databases/Pfam/releases/Pfam32.0/Pfam-A.clans.tsv.gz'"
   ]
  },
  {
   "cell_type": "code",
   "execution_count": 5,
   "metadata": {},
   "outputs": [],
   "source": [
    "df = pd.read_csv(pfam_url, sep='\\t', dtype=str, header=0,\n",
    "                 names=['accession', 'clanId', 'clanName', 'name', 'description'])"
   ]
  },
  {
   "cell_type": "code",
   "execution_count": 6,
   "metadata": {},
   "outputs": [],
   "source": [
    "df.fillna('', inplace=True)"
   ]
  },
  {
   "cell_type": "markdown",
   "metadata": {},
   "source": [
    "### Assign CURIEs and standard names"
   ]
  },
  {
   "cell_type": "code",
   "execution_count": 7,
   "metadata": {},
   "outputs": [],
   "source": [
    "df['accession'] = 'pfam:' + df['accession']"
   ]
  },
  {
   "cell_type": "code",
   "execution_count": 8,
   "metadata": {},
   "outputs": [
    {
     "data": {
      "text/html": [
       "<div>\n",
       "<style scoped>\n",
       "    .dataframe tbody tr th:only-of-type {\n",
       "        vertical-align: middle;\n",
       "    }\n",
       "\n",
       "    .dataframe tbody tr th {\n",
       "        vertical-align: top;\n",
       "    }\n",
       "\n",
       "    .dataframe thead th {\n",
       "        text-align: right;\n",
       "    }\n",
       "</style>\n",
       "<table border=\"1\" class=\"dataframe\">\n",
       "  <thead>\n",
       "    <tr style=\"text-align: right;\">\n",
       "      <th></th>\n",
       "      <th>accession</th>\n",
       "      <th>clanId</th>\n",
       "      <th>clanName</th>\n",
       "      <th>name</th>\n",
       "      <th>description</th>\n",
       "    </tr>\n",
       "  </thead>\n",
       "  <tbody>\n",
       "    <tr>\n",
       "      <th>0</th>\n",
       "      <td>pfam:PF00002</td>\n",
       "      <td>CL0192</td>\n",
       "      <td>GPCR_A</td>\n",
       "      <td>7tm_2</td>\n",
       "      <td>7 transmembrane receptor (Secretin family)</td>\n",
       "    </tr>\n",
       "    <tr>\n",
       "      <th>1</th>\n",
       "      <td>pfam:PF00003</td>\n",
       "      <td>CL0192</td>\n",
       "      <td>GPCR_A</td>\n",
       "      <td>7tm_3</td>\n",
       "      <td>7 transmembrane sweet-taste receptor of 3 GCPR</td>\n",
       "    </tr>\n",
       "    <tr>\n",
       "      <th>2</th>\n",
       "      <td>pfam:PF00004</td>\n",
       "      <td>CL0023</td>\n",
       "      <td>P-loop_NTPase</td>\n",
       "      <td>AAA</td>\n",
       "      <td>ATPase family associated with various cellular...</td>\n",
       "    </tr>\n",
       "    <tr>\n",
       "      <th>3</th>\n",
       "      <td>pfam:PF00005</td>\n",
       "      <td>CL0023</td>\n",
       "      <td>P-loop_NTPase</td>\n",
       "      <td>ABC_tran</td>\n",
       "      <td>ABC transporter</td>\n",
       "    </tr>\n",
       "    <tr>\n",
       "      <th>4</th>\n",
       "      <td>pfam:PF00006</td>\n",
       "      <td>CL0023</td>\n",
       "      <td>P-loop_NTPase</td>\n",
       "      <td>ATP-synt_ab</td>\n",
       "      <td>ATP synthase alpha/beta family, nucleotide-bin...</td>\n",
       "    </tr>\n",
       "  </tbody>\n",
       "</table>\n",
       "</div>"
      ],
      "text/plain": [
       "      accession  clanId       clanName         name  \\\n",
       "0  pfam:PF00002  CL0192         GPCR_A        7tm_2   \n",
       "1  pfam:PF00003  CL0192         GPCR_A        7tm_3   \n",
       "2  pfam:PF00004  CL0023  P-loop_NTPase          AAA   \n",
       "3  pfam:PF00005  CL0023  P-loop_NTPase     ABC_tran   \n",
       "4  pfam:PF00006  CL0023  P-loop_NTPase  ATP-synt_ab   \n",
       "\n",
       "                                         description  \n",
       "0         7 transmembrane receptor (Secretin family)  \n",
       "1     7 transmembrane sweet-taste receptor of 3 GCPR  \n",
       "2  ATPase family associated with various cellular...  \n",
       "3                                    ABC transporter  \n",
       "4  ATP synthase alpha/beta family, nucleotide-bin...  "
      ]
     },
     "execution_count": 8,
     "metadata": {},
     "output_type": "execute_result"
    }
   ],
   "source": [
    "df.head()"
   ]
  },
  {
   "cell_type": "code",
   "execution_count": 9,
   "metadata": {},
   "outputs": [],
   "source": [
    "df.to_csv(NEO4J_IMPORT / \"01g-PfamDomainClan.csv\", index=False)"
   ]
  },
  {
   "cell_type": "code",
   "execution_count": 10,
   "metadata": {},
   "outputs": [
    {
     "data": {
      "text/plain": [
       "array(['CL0192', 'CL0023', 'CL0079', 'CL0001', '', 'CL0190', 'CL0108',\n",
       "       'CL0007', 'CL0541', 'CL0010', 'CL0607', 'CL0117', 'CL0465',\n",
       "       'CL0168', 'CL0129', 'CL0029', 'CL0159', 'CL0375', 'CL0333',\n",
       "       'CL0121', 'CL0328', 'CL0318', 'CL0196', 'CL0220', 'CL0344',\n",
       "       'CL0451', 'CL0602', 'CL0090', 'CL0497', 'CL0063', 'CL0123',\n",
       "       'CL0011', 'CL0239', 'CL0005', 'CL0202', 'CL0004', 'CL0186',\n",
       "       'CL0056', 'CL0030', 'CL0116', 'CL0037', 'CL0434', 'CL0629',\n",
       "       'CL0016', 'CL0304', 'CL0055', 'CL0219', 'CL0221', 'CL0027',\n",
       "       'CL0015', 'CL0172', 'CL0630', 'CL0124', 'CL0692', 'CL0566',\n",
       "       'CL0128', 'CL0361', 'CL0229', 'CL0511', 'CL0031', 'CL0053',\n",
       "       'CL0167', 'CL0046', 'CL0486', 'CL0125', 'CL0256', 'CL0327',\n",
       "       'CL0026', 'CL0014', 'CL0286', 'CL0036', 'CL0012', 'CL0058',\n",
       "       'CL0343', 'CL0006', 'CL0461', 'CL0536', 'CL0039', 'CL0065',\n",
       "       'CL0028', 'CL0194', 'CL0617', 'CL0013', 'CL0425', 'CL0422',\n",
       "       'CL0043', 'CL0163', 'CL0040', 'CL0061', 'CL0533', 'CL0475',\n",
       "       'CL0492', 'CL0021', 'CL0296', 'CL0066', 'CL0154', 'CL0266',\n",
       "       'CL0018', 'CL0099', 'CL0072', 'CL0091', 'CL0208', 'CL0270',\n",
       "       'CL0399', 'CL0387', 'CL0659', 'CL0149', 'CL0113', 'CL0329',\n",
       "       'CL0085', 'CL0062', 'CL0044', 'CL0276', 'CL0255', 'CL0548',\n",
       "       'CL0547', 'CL0151', 'CL0392', 'CL0052', 'CL0100', 'CL0237',\n",
       "       'CL0482', 'CL0431', 'CL0092', 'CL0088', 'CL0035', 'CL0143',\n",
       "       'CL0487', 'CL0042', 'CL0452', 'CL0205', 'CL0193', 'CL0282',\n",
       "       'CL0290', 'CL0367', 'CL0652', 'CL0483', 'CL0261', 'CL0118',\n",
       "       'CL0268', 'CL0575', 'CL0096', 'CL0071', 'CL0045', 'CL0054',\n",
       "       'CL0188', 'CL0600', 'CL0293', 'CL0171', 'CL0067', 'CL0075',\n",
       "       'CL0347', 'CL0135', 'CL0556', 'CL0613', 'CL0407', 'CL0592',\n",
       "       'CL0516', 'CL0105', 'CL0340', 'CL0161', 'CL0240', 'CL0632',\n",
       "       'CL0127', 'CL0109', 'CL0049', 'CL0384', 'CL0325', 'CL0603',\n",
       "       'CL0364', 'CL0106', 'CL0680', 'CL0177', 'CL0209', 'CL0267',\n",
       "       'CL0126', 'CL0303', 'CL0204', 'CL0164', 'CL0059', 'CL0217',\n",
       "       'CL0087', 'CL0034', 'CL0551', 'CL0246', 'CL0254', 'CL0224',\n",
       "       'CL0107', 'CL0337', 'CL0385', 'CL0238', 'CL0110', 'CL0302',\n",
       "       'CL0357', 'CL0378', 'CL0114', 'CL0025', 'CL0020', 'CL0595',\n",
       "       'CL0404', 'CL0550', 'CL0041', 'CL0144', 'CL0459', 'CL0003',\n",
       "       'CL0074', 'CL0326', 'CL0089', 'CL0506', 'CL0314', 'CL0203',\n",
       "       'CL0073', 'CL0568', 'CL0022', 'CL0410', 'CL0426', 'CL0287',\n",
       "       'CL0257', 'CL0070', 'CL0098', 'CL0382', 'CL0466', 'CL0236',\n",
       "       'CL0148', 'CL0674', 'CL0145', 'CL0479', 'CL0272', 'CL0409',\n",
       "       'CL0542', 'CL0214', 'CL0390', 'CL0552', 'CL0198', 'CL0539',\n",
       "       'CL0537', 'CL0084', 'CL0271', 'CL0512', 'CL0033', 'CL0417',\n",
       "       'CL0093', 'CL0264', 'CL0241', 'CL0076', 'CL0681', 'CL0094',\n",
       "       'CL0437', 'CL0369', 'CL0153', 'CL0323', 'CL0137', 'CL0060',\n",
       "       'CL0622', 'CL0620', 'CL0201', 'CL0299', 'CL0083', 'CL0605',\n",
       "       'CL0139', 'CL0280', 'CL0381', 'CL0009', 'CL0661', 'CL0169',\n",
       "       'CL0571', 'CL0445', 'CL0505', 'CL0141', 'CL0374', 'CL0352',\n",
       "       'CL0588', 'CL0346', 'CL0080', 'CL0081', 'CL0649', 'CL0051',\n",
       "       'CL0464', 'CL0543', 'CL0322', 'CL0166', 'CL0226', 'CL0529',\n",
       "       'CL0368', 'CL0184', 'CL0104', 'CL0389', 'CL0448', 'CL0182',\n",
       "       'CL0077', 'CL0142', 'CL0324', 'CL0353', 'CL0199', 'CL0156',\n",
       "       'CL0183', 'CL0064', 'CL0334', 'CL0453', 'CL0633', 'CL0032',\n",
       "       'CL0534', 'CL0408', 'CL0181', 'CL0611', 'CL0078', 'CL0179',\n",
       "       'CL0158', 'CL0363', 'CL0130', 'CL0612', 'CL0170', 'CL0265',\n",
       "       'CL0370', 'CL0521', 'CL0232', 'CL0621', 'CL0345', 'CL0658',\n",
       "       'CL0230', 'CL0335', 'CL0433', 'CL0234', 'CL0644', 'CL0395',\n",
       "       'CL0292', 'CL0103', 'CL0082', 'CL0509', 'CL0397', 'CL0160',\n",
       "       'CL0115', 'CL0263', 'CL0339', 'CL0380', 'CL0336', 'CL0175',\n",
       "       'CL0101', 'CL0648', 'CL0396', 'CL0356', 'CL0057', 'CL0359',\n",
       "       'CL0069', 'CL0366', 'CL0477', 'CL0527', 'CL0598', 'CL0379',\n",
       "       'CL0244', 'CL0178', 'CL0694', 'CL0187', 'CL0321', 'CL0520',\n",
       "       'CL0231', 'CL0666', 'CL0418', 'CL0213', 'CL0228', 'CL0222',\n",
       "       'CL0377', 'CL0332', 'CL0525', 'CL0289', 'CL0050', 'CL0173',\n",
       "       'CL0449', 'CL0233', 'CL0155', 'CL0086', 'CL0140', 'CL0670',\n",
       "       'CL0625', 'CL0696', 'CL0223', 'CL0288', 'CL0577', 'CL0207',\n",
       "       'CL0436', 'CL0269', 'CL0502', 'CL0260', 'CL0095', 'CL0413',\n",
       "       'CL0316', 'CL0619', 'CL0481', 'CL0626', 'CL0624', 'CL0584',\n",
       "       'CL0297', 'CL0639', 'CL0283', 'CL0503', 'CL0362', 'CL0315',\n",
       "       'CL0646', 'CL0243', 'CL0499', 'CL0522', 'CL0360', 'CL0197',\n",
       "       'CL0441', 'CL0200', 'CL0601', 'CL0273', 'CL0291', 'CL0122',\n",
       "       'CL0319', 'CL0376', 'CL0635', 'CL0572', 'CL0305', 'CL0656',\n",
       "       'CL0494', 'CL0311', 'CL0306', 'CL0419', 'CL0131', 'CL0582',\n",
       "       'CL0317', 'CL0424', 'CL0330', 'CL0573', 'CL0671', 'CL0355',\n",
       "       'CL0638', 'CL0589', 'CL0248', 'CL0068', 'CL0457', 'CL0610',\n",
       "       'CL0673', 'CL0532', 'CL0609', 'CL0206', 'CL0618', 'CL0570',\n",
       "       'CL0653', 'CL0498', 'CL0623', 'CL0545', 'CL0351', 'CL0651',\n",
       "       'CL0672', 'CL0439', 'CL0405', 'CL0111', 'CL0493', 'CL0132',\n",
       "       'CL0526', 'CL0298', 'CL0689', 'CL0348', 'CL0560', 'CL0597',\n",
       "       'CL0484', 'CL0349', 'CL0251', 'CL0472', 'CL0627', 'CL0663',\n",
       "       'CL0365', 'CL0136', 'CL0157', 'CL0423', 'CL0394', 'CL0279',\n",
       "       'CL0245', 'CL0416', 'CL0047', 'CL0616', 'CL0165', 'CL0227',\n",
       "       'CL0544', 'CL0476', 'CL0591', 'CL0614', 'CL0210', 'CL0247',\n",
       "       'CL0546', 'CL0535', 'CL0608', 'CL0341', 'CL0275', 'CL0386',\n",
       "       'CL0469', 'CL0174', 'CL0277', 'CL0300', 'CL0402', 'CL0250',\n",
       "       'CL0429', 'CL0176', 'CL0393', 'CL0354', 'CL0195', 'CL0650',\n",
       "       'CL0242', 'CL0400', 'CL0517', 'CL0295', 'CL0133', 'CL0274',\n",
       "       'CL0458', 'CL0685', 'CL0331', 'CL0615', 'CL0559', 'CL0235',\n",
       "       'CL0576', 'CL0530', 'CL0320', 'CL0628', 'CL0383', 'CL0446',\n",
       "       'CL0097', 'CL0428', 'CL0048', 'CL0146', 'CL0523', 'CL0580',\n",
       "       'CL0430', 'CL0435', 'CL0508', 'CL0342', 'CL0513', 'CL0373',\n",
       "       'CL0645', 'CL0112', 'CL0478', 'CL0147', 'CL0308', 'CL0490',\n",
       "       'CL0442', 'CL0259', 'CL0596', 'CL0471', 'CL0507', 'CL0540',\n",
       "       'CL0631', 'CL0500', 'CL0667', 'CL0655', 'CL0401', 'CL0414',\n",
       "       'CL0569', 'CL0307', 'CL0662', 'CL0590', 'CL0278', 'CL0372',\n",
       "       'CL0690', 'CL0563', 'CL0225', 'CL0310', 'CL0679', 'CL0249',\n",
       "       'CL0564', 'CL0660', 'CL0643', 'CL0312', 'CL0350', 'CL0491',\n",
       "       'CL0504', 'CL0371', 'CL0406', 'CL0684', 'CL0262', 'CL0258',\n",
       "       'CL0488', 'CL0411', 'CL0284', 'CL0691', 'CL0412', 'CL0281',\n",
       "       'CL0567', 'CL0403', 'CL0450', 'CL0421', 'CL0606', 'CL0470',\n",
       "       'CL0528', 'CL0191', 'CL0420', 'CL0562', 'CL0447', 'CL0634',\n",
       "       'CL0294', 'CL0285', 'CL0593', 'CL0398', 'CL0642', 'CL0637',\n",
       "       'CL0301', 'CL0388', 'CL0162', 'CL0496', 'CL0515', 'CL0212',\n",
       "       'CL0636', 'CL0391', 'CL0455', 'CL0561', 'CL0594', 'CL0604',\n",
       "       'CL0677', 'CL0489', 'CL0654', 'CL0462', 'CL0599', 'CL0524',\n",
       "       'CL0668', 'CL0578', 'CL0695', 'CL0456', 'CL0585', 'CL0640',\n",
       "       'CL0678', 'CL0688', 'CL0474', 'CL0531', 'CL0647', 'CL0565',\n",
       "       'CL0669', 'CL0676', 'CL0664', 'CL0586', 'CL0683', 'CL0693',\n",
       "       'CL0665', 'CL0587', 'CL0682', 'CL0687', 'CL0686'], dtype=object)"
      ]
     },
     "execution_count": 10,
     "metadata": {},
     "output_type": "execute_result"
    }
   ],
   "source": [
    "df['clanId'].unique()"
   ]
  },
  {
   "cell_type": "code",
   "execution_count": null,
   "metadata": {},
   "outputs": [],
   "source": []
  }
 ],
 "metadata": {
  "kernelspec": {
   "display_name": "Python 3",
   "language": "python",
   "name": "python3"
  },
  "language_info": {
   "codemirror_mode": {
    "name": "ipython",
    "version": 3
   },
   "file_extension": ".py",
   "mimetype": "text/x-python",
   "name": "python",
   "nbconvert_exporter": "python",
   "pygments_lexer": "ipython3",
   "version": "3.7.9"
  }
 },
 "nbformat": 4,
 "nbformat_minor": 4
}
