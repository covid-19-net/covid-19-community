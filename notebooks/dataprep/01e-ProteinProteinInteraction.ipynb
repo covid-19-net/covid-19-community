{
 "cells": [
  {
   "cell_type": "markdown",
   "metadata": {},
   "source": [
    "# Protein Protein Interaction Data\n",
    "**[Work in progress]**\n",
    "\n",
    "This notebook downloads and standardizes viral-host iiIIrotein data from IntAct for ingestion into the Knowledge Graph.\n",
    "\n",
    "Data source: [IntAct](https://www.ebi.ac.uk/intact/query/pubid:IM-27814)\n",
    "\n",
    "Authors: Kaushik Ganapathy, Eric Yu, Peter Rose (krganapa@ucsd.edu, ery010@ucsd.edu, pwrose@ucsd.edu)"
   ]
  },
  {
   "cell_type": "code",
   "execution_count": 1,
   "metadata": {},
   "outputs": [],
   "source": [
    "import os\n",
    "import re\n",
    "import numpy as np\n",
    "import pandas as pd\n",
    "from pathlib import Path"
   ]
  },
  {
   "cell_type": "code",
   "execution_count": 2,
   "metadata": {},
   "outputs": [],
   "source": [
    "pd.options.display.max_rows = None  # display all rows\n",
    "pd.options.display.max_columns = None  # display all columns"
   ]
  },
  {
   "cell_type": "code",
   "execution_count": 3,
   "metadata": {},
   "outputs": [
    {
     "name": "stdout",
     "output_type": "stream",
     "text": [
      "/Users/peter/Library/Application Support/com.Neo4j.Relate/data/dbmss/dbms-8bf637fc-0d20-4d9f-9c6f-f7e72e92a4da/import\n"
     ]
    }
   ],
   "source": [
    "NEO4J_IMPORT = Path(os.getenv('NEO4J_IMPORT'))\n",
    "print(NEO4J_IMPORT)"
   ]
  },
  {
   "cell_type": "markdown",
   "metadata": {},
   "source": [
    "### Get list of organisms to include in the Knowledge Graph"
   ]
  },
  {
   "cell_type": "code",
   "execution_count": 4,
   "metadata": {},
   "outputs": [],
   "source": [
    "organisms = pd.read_csv(\"../../reference_data/Organism.csv\", dtype=str)"
   ]
  },
  {
   "cell_type": "code",
   "execution_count": 5,
   "metadata": {},
   "outputs": [],
   "source": [
    "organisms = organisms[organisms['id'].str.startswith('taxonomy')]\n",
    "# remove CURIE\n",
    "organisms['taxonomy'] = organisms['id'].apply(lambda x: x.split(':')[1])\n",
    "taxonomy_ids = organisms['taxonomy'].unique()"
   ]
  },
  {
   "cell_type": "code",
   "execution_count": 6,
   "metadata": {},
   "outputs": [
    {
     "data": {
      "text/plain": [
       "array(['2697049', '1263720', '694009', '443239', '31631', '11137',\n",
       "       '277944', '2709072', '2708335', '12131', '12134', '766791',\n",
       "       '693998', '1487703', '285949', '9606', '60711', '10090', '59479',\n",
       "       '59477', '608659', '49442', '608708', '9974', '143292', '71116',\n",
       "       '9608', '9615', '9685', '9666', '419130', '452646', '10036',\n",
       "       '9689', '9694', '151659'], dtype=object)"
      ]
     },
     "execution_count": 6,
     "metadata": {},
     "output_type": "execute_result"
    }
   ],
   "source": [
    "taxonomy_ids"
   ]
  },
  {
   "cell_type": "markdown",
   "metadata": {},
   "source": [
    "### Retrieve interaction data from IntAct"
   ]
  },
  {
   "cell_type": "code",
   "execution_count": 7,
   "metadata": {},
   "outputs": [],
   "source": [
    "urls = [f'https://www.ebi.ac.uk/intact/export?format=mitab_25&query=taxid%3A{taxon}&negative=false&spoke=false&ontology=false&sort=intact-miscore&asc=false'\n",
    "        for taxon in taxonomy_ids]"
   ]
  },
  {
   "cell_type": "code",
   "execution_count": 8,
   "metadata": {},
   "outputs": [],
   "source": [
    "data = pd.concat((pd.read_csv(url, sep='\\t', dtype='str') for url in urls))"
   ]
  },
  {
   "cell_type": "code",
   "execution_count": 9,
   "metadata": {},
   "outputs": [
    {
     "name": "stdout",
     "output_type": "stream",
     "text": [
      "Number of interactions: 787866\n"
     ]
    }
   ],
   "source": [
    "print('Number of interactions:', data.shape[0])"
   ]
  },
  {
   "cell_type": "code",
   "execution_count": 10,
   "metadata": {},
   "outputs": [
    {
     "data": {
      "text/html": [
       "<div>\n",
       "<style scoped>\n",
       "    .dataframe tbody tr th:only-of-type {\n",
       "        vertical-align: middle;\n",
       "    }\n",
       "\n",
       "    .dataframe tbody tr th {\n",
       "        vertical-align: top;\n",
       "    }\n",
       "\n",
       "    .dataframe thead th {\n",
       "        text-align: right;\n",
       "    }\n",
       "</style>\n",
       "<table border=\"1\" class=\"dataframe\">\n",
       "  <thead>\n",
       "    <tr style=\"text-align: right;\">\n",
       "      <th></th>\n",
       "      <th>#ID(s) interactor A</th>\n",
       "      <th>ID(s) interactor B</th>\n",
       "      <th>Alt. ID(s) interactor A</th>\n",
       "      <th>Alt. ID(s) interactor B</th>\n",
       "      <th>Alias(es) interactor A</th>\n",
       "      <th>Alias(es) interactor B</th>\n",
       "      <th>Interaction detection method(s)</th>\n",
       "      <th>Publication 1st author(s)</th>\n",
       "      <th>Publication Identifier(s)</th>\n",
       "      <th>Taxid interactor A</th>\n",
       "      <th>Taxid interactor B</th>\n",
       "      <th>Interaction type(s)</th>\n",
       "      <th>Source database(s)</th>\n",
       "      <th>Interaction identifier(s)</th>\n",
       "      <th>Confidence value(s)</th>\n",
       "    </tr>\n",
       "  </thead>\n",
       "  <tbody>\n",
       "    <tr>\n",
       "      <th>0</th>\n",
       "      <td>uniprotkb:P0DTD1-PRO_0000449628</td>\n",
       "      <td>uniprotkb:P0DTD1-PRO_0000449633</td>\n",
       "      <td>intact:EBI-25475880</td>\n",
       "      <td>intact:EBI-25492395</td>\n",
       "      <td>psi-mi:p0dtd1-pro_0000449628(display_long)|uni...</td>\n",
       "      <td>psi-mi:p0dtd1-pro_0000449633(display_long)|uni...</td>\n",
       "      <td>psi-mi:\"MI:0114\"(x-ray crystallography)</td>\n",
       "      <td>Krafcikova et al. (2020)</td>\n",
       "      <td>pubmed:32709887|imex:IM-28212</td>\n",
       "      <td>taxid:2697049(SARS-CoV-2)|taxid:2697049(SARS-C...</td>\n",
       "      <td>taxid:2697049(SARS-CoV-2)|taxid:2697049(SARS-C...</td>\n",
       "      <td>psi-mi:\"MI:0407\"(direct interaction)</td>\n",
       "      <td>psi-mi:\"MI:0469\"(IntAct)</td>\n",
       "      <td>intact:EBI-25763621|imex:IM-28212-1|wwpdb:6YZ1</td>\n",
       "      <td>intact-miscore:0.93</td>\n",
       "    </tr>\n",
       "    <tr>\n",
       "      <th>1</th>\n",
       "      <td>uniprotkb:P0DTD1-PRO_0000449628</td>\n",
       "      <td>uniprotkb:P0DTD1-PRO_0000449633</td>\n",
       "      <td>intact:EBI-25475880</td>\n",
       "      <td>intact:EBI-25492395</td>\n",
       "      <td>psi-mi:p0dtd1-pro_0000449628(display_long)|uni...</td>\n",
       "      <td>psi-mi:p0dtd1-pro_0000449633(display_long)|uni...</td>\n",
       "      <td>psi-mi:\"MI:0071\"(molecular sieving)</td>\n",
       "      <td>Krafcikova et al. (2020)</td>\n",
       "      <td>pubmed:32709887|imex:IM-28212</td>\n",
       "      <td>taxid:2697049(SARS-CoV-2)|taxid:2697049(SARS-C...</td>\n",
       "      <td>taxid:2697049(SARS-CoV-2)|taxid:2697049(SARS-C...</td>\n",
       "      <td>psi-mi:\"MI:0407\"(direct interaction)</td>\n",
       "      <td>psi-mi:\"MI:0469\"(IntAct)</td>\n",
       "      <td>intact:EBI-25763651|imex:IM-28212-2</td>\n",
       "      <td>intact-miscore:0.93</td>\n",
       "    </tr>\n",
       "    <tr>\n",
       "      <th>2</th>\n",
       "      <td>uniprotkb:P0DTC2</td>\n",
       "      <td>uniprotkb:P0DTC2</td>\n",
       "      <td>intact:EBI-25474821</td>\n",
       "      <td>intact:EBI-25474821</td>\n",
       "      <td>psi-mi:spike_sars2(display_long)|uniprotkb:S(g...</td>\n",
       "      <td>psi-mi:spike_sars2(display_long)|uniprotkb:S(g...</td>\n",
       "      <td>psi-mi:\"MI:0410\"(3D electron microscopy)</td>\n",
       "      <td>Hsieh et al. (2020)</td>\n",
       "      <td>pubmed:32703906|imex:IM-28214</td>\n",
       "      <td>taxid:2697049(SARS-CoV-2)|taxid:2697049(SARS-C...</td>\n",
       "      <td>taxid:2697049(SARS-CoV-2)|taxid:2697049(SARS-C...</td>\n",
       "      <td>psi-mi:\"MI:0407\"(direct interaction)</td>\n",
       "      <td>psi-mi:\"MI:0469\"(IntAct)</td>\n",
       "      <td>intact:EBI-25763710|emdb:EMD-22221|wwpdb:6xkl|...</td>\n",
       "      <td>intact-miscore:0.95</td>\n",
       "    </tr>\n",
       "    <tr>\n",
       "      <th>3</th>\n",
       "      <td>uniprotkb:P0DTC2</td>\n",
       "      <td>uniprotkb:P0DTC2</td>\n",
       "      <td>intact:EBI-25474821</td>\n",
       "      <td>intact:EBI-25474821</td>\n",
       "      <td>psi-mi:spike_sars2(display_long)|uniprotkb:S(g...</td>\n",
       "      <td>psi-mi:spike_sars2(display_long)|uniprotkb:S(g...</td>\n",
       "      <td>psi-mi:\"MI:0410\"(3D electron microscopy)</td>\n",
       "      <td>Cai et al. (2020)</td>\n",
       "      <td>imex:IM-28256|pubmed:32694201</td>\n",
       "      <td>taxid:2697049(SARS-CoV-2)|taxid:2697049(SARS-C...</td>\n",
       "      <td>taxid:2697049(SARS-CoV-2)|taxid:2697049(SARS-C...</td>\n",
       "      <td>psi-mi:\"MI:0407\"(direct interaction)</td>\n",
       "      <td>psi-mi:\"MI:0469\"(IntAct)</td>\n",
       "      <td>intact:EBI-25766108|wwpdb:6XRA|wwpdb:6XR8|imex...</td>\n",
       "      <td>intact-miscore:0.95</td>\n",
       "    </tr>\n",
       "    <tr>\n",
       "      <th>4</th>\n",
       "      <td>uniprotkb:P0DTD1-PRO_0000449628</td>\n",
       "      <td>uniprotkb:P0DTD1-PRO_0000449633</td>\n",
       "      <td>intact:EBI-25475880</td>\n",
       "      <td>intact:EBI-25492395</td>\n",
       "      <td>psi-mi:p0dtd1-pro_0000449628(display_long)|uni...</td>\n",
       "      <td>psi-mi:p0dtd1-pro_0000449633(display_long)|uni...</td>\n",
       "      <td>psi-mi:\"MI:0114\"(x-ray crystallography)</td>\n",
       "      <td>Lin et al. (2020)</td>\n",
       "      <td>imex:IM-28230|pubmed:32728018</td>\n",
       "      <td>taxid:2697049(SARS-CoV-2)|taxid:2697049(SARS-C...</td>\n",
       "      <td>taxid:2697049(SARS-CoV-2)|taxid:2697049(SARS-C...</td>\n",
       "      <td>psi-mi:\"MI:0407\"(direct interaction)</td>\n",
       "      <td>psi-mi:\"MI:0469\"(IntAct)</td>\n",
       "      <td>intact:EBI-25766164|wwpdb:7C2I|wwpdb:7C2J|imex...</td>\n",
       "      <td>intact-miscore:0.93</td>\n",
       "    </tr>\n",
       "  </tbody>\n",
       "</table>\n",
       "</div>"
      ],
      "text/plain": [
       "               #ID(s) interactor A               ID(s) interactor B  \\\n",
       "0  uniprotkb:P0DTD1-PRO_0000449628  uniprotkb:P0DTD1-PRO_0000449633   \n",
       "1  uniprotkb:P0DTD1-PRO_0000449628  uniprotkb:P0DTD1-PRO_0000449633   \n",
       "2                 uniprotkb:P0DTC2                 uniprotkb:P0DTC2   \n",
       "3                 uniprotkb:P0DTC2                 uniprotkb:P0DTC2   \n",
       "4  uniprotkb:P0DTD1-PRO_0000449628  uniprotkb:P0DTD1-PRO_0000449633   \n",
       "\n",
       "  Alt. ID(s) interactor A Alt. ID(s) interactor B  \\\n",
       "0     intact:EBI-25475880     intact:EBI-25492395   \n",
       "1     intact:EBI-25475880     intact:EBI-25492395   \n",
       "2     intact:EBI-25474821     intact:EBI-25474821   \n",
       "3     intact:EBI-25474821     intact:EBI-25474821   \n",
       "4     intact:EBI-25475880     intact:EBI-25492395   \n",
       "\n",
       "                              Alias(es) interactor A  \\\n",
       "0  psi-mi:p0dtd1-pro_0000449628(display_long)|uni...   \n",
       "1  psi-mi:p0dtd1-pro_0000449628(display_long)|uni...   \n",
       "2  psi-mi:spike_sars2(display_long)|uniprotkb:S(g...   \n",
       "3  psi-mi:spike_sars2(display_long)|uniprotkb:S(g...   \n",
       "4  psi-mi:p0dtd1-pro_0000449628(display_long)|uni...   \n",
       "\n",
       "                              Alias(es) interactor B  \\\n",
       "0  psi-mi:p0dtd1-pro_0000449633(display_long)|uni...   \n",
       "1  psi-mi:p0dtd1-pro_0000449633(display_long)|uni...   \n",
       "2  psi-mi:spike_sars2(display_long)|uniprotkb:S(g...   \n",
       "3  psi-mi:spike_sars2(display_long)|uniprotkb:S(g...   \n",
       "4  psi-mi:p0dtd1-pro_0000449633(display_long)|uni...   \n",
       "\n",
       "            Interaction detection method(s) Publication 1st author(s)  \\\n",
       "0   psi-mi:\"MI:0114\"(x-ray crystallography)  Krafcikova et al. (2020)   \n",
       "1       psi-mi:\"MI:0071\"(molecular sieving)  Krafcikova et al. (2020)   \n",
       "2  psi-mi:\"MI:0410\"(3D electron microscopy)       Hsieh et al. (2020)   \n",
       "3  psi-mi:\"MI:0410\"(3D electron microscopy)         Cai et al. (2020)   \n",
       "4   psi-mi:\"MI:0114\"(x-ray crystallography)         Lin et al. (2020)   \n",
       "\n",
       "       Publication Identifier(s)  \\\n",
       "0  pubmed:32709887|imex:IM-28212   \n",
       "1  pubmed:32709887|imex:IM-28212   \n",
       "2  pubmed:32703906|imex:IM-28214   \n",
       "3  imex:IM-28256|pubmed:32694201   \n",
       "4  imex:IM-28230|pubmed:32728018   \n",
       "\n",
       "                                  Taxid interactor A  \\\n",
       "0  taxid:2697049(SARS-CoV-2)|taxid:2697049(SARS-C...   \n",
       "1  taxid:2697049(SARS-CoV-2)|taxid:2697049(SARS-C...   \n",
       "2  taxid:2697049(SARS-CoV-2)|taxid:2697049(SARS-C...   \n",
       "3  taxid:2697049(SARS-CoV-2)|taxid:2697049(SARS-C...   \n",
       "4  taxid:2697049(SARS-CoV-2)|taxid:2697049(SARS-C...   \n",
       "\n",
       "                                  Taxid interactor B  \\\n",
       "0  taxid:2697049(SARS-CoV-2)|taxid:2697049(SARS-C...   \n",
       "1  taxid:2697049(SARS-CoV-2)|taxid:2697049(SARS-C...   \n",
       "2  taxid:2697049(SARS-CoV-2)|taxid:2697049(SARS-C...   \n",
       "3  taxid:2697049(SARS-CoV-2)|taxid:2697049(SARS-C...   \n",
       "4  taxid:2697049(SARS-CoV-2)|taxid:2697049(SARS-C...   \n",
       "\n",
       "                    Interaction type(s)        Source database(s)  \\\n",
       "0  psi-mi:\"MI:0407\"(direct interaction)  psi-mi:\"MI:0469\"(IntAct)   \n",
       "1  psi-mi:\"MI:0407\"(direct interaction)  psi-mi:\"MI:0469\"(IntAct)   \n",
       "2  psi-mi:\"MI:0407\"(direct interaction)  psi-mi:\"MI:0469\"(IntAct)   \n",
       "3  psi-mi:\"MI:0407\"(direct interaction)  psi-mi:\"MI:0469\"(IntAct)   \n",
       "4  psi-mi:\"MI:0407\"(direct interaction)  psi-mi:\"MI:0469\"(IntAct)   \n",
       "\n",
       "                           Interaction identifier(s)  Confidence value(s)  \n",
       "0     intact:EBI-25763621|imex:IM-28212-1|wwpdb:6YZ1  intact-miscore:0.93  \n",
       "1                intact:EBI-25763651|imex:IM-28212-2  intact-miscore:0.93  \n",
       "2  intact:EBI-25763710|emdb:EMD-22221|wwpdb:6xkl|...  intact-miscore:0.95  \n",
       "3  intact:EBI-25766108|wwpdb:6XRA|wwpdb:6XR8|imex...  intact-miscore:0.95  \n",
       "4  intact:EBI-25766164|wwpdb:7C2I|wwpdb:7C2J|imex...  intact-miscore:0.93  "
      ]
     },
     "execution_count": 10,
     "metadata": {},
     "output_type": "execute_result"
    }
   ],
   "source": [
    "data.head()"
   ]
  },
  {
   "cell_type": "markdown",
   "metadata": {},
   "source": [
    "### Process Data"
   ]
  },
  {
   "cell_type": "code",
   "execution_count": 11,
   "metadata": {},
   "outputs": [
    {
     "name": "stderr",
     "output_type": "stream",
     "text": [
      "/opt/miniconda3/envs/covid-19-community/lib/python3.7/site-packages/ipykernel_launcher.py:4: FutureWarning: The default value of regex will change from True to False in a future version. In addition, single character regular expressions will*not* be treated as literal strings when regex=True.\n",
      "  after removing the cwd from sys.path.\n"
     ]
    }
   ],
   "source": [
    "# change CURIE from wwpdb to pdb to enable resolution by identifiers.org\n",
    "data['interactionIds'] = data['Interaction identifier(s)'].str.replace('wwpdb', 'pdb')\n",
    "# represent one-to-many relationship as semicolon separated string\n",
    "data['interactionIds'] = data['interactionIds'].str.replace('|', ';')\n",
    "# extract unique interaction id\n",
    "data['interactionId'] = 'intact:EBI-' + data['interactionIds'].str.extract('intact:EBI-(\\d*)')"
   ]
  },
  {
   "cell_type": "markdown",
   "metadata": {},
   "source": [
    "#### Remove duplicates"
   ]
  },
  {
   "cell_type": "code",
   "execution_count": 12,
   "metadata": {},
   "outputs": [],
   "source": [
    "data.drop_duplicates(subset=['interactionId'], inplace=True)"
   ]
  },
  {
   "cell_type": "code",
   "execution_count": 13,
   "metadata": {},
   "outputs": [
    {
     "name": "stdout",
     "output_type": "stream",
     "text": [
      "Number of interactions without duplicates: 450184\n"
     ]
    }
   ],
   "source": [
    "print('Number of interactions without duplicates:', data.shape[0])"
   ]
  },
  {
   "cell_type": "code",
   "execution_count": 14,
   "metadata": {},
   "outputs": [
    {
     "data": {
      "text/html": [
       "<div>\n",
       "<style scoped>\n",
       "    .dataframe tbody tr th:only-of-type {\n",
       "        vertical-align: middle;\n",
       "    }\n",
       "\n",
       "    .dataframe tbody tr th {\n",
       "        vertical-align: top;\n",
       "    }\n",
       "\n",
       "    .dataframe thead th {\n",
       "        text-align: right;\n",
       "    }\n",
       "</style>\n",
       "<table border=\"1\" class=\"dataframe\">\n",
       "  <thead>\n",
       "    <tr style=\"text-align: right;\">\n",
       "      <th></th>\n",
       "      <th>#ID(s) interactor A</th>\n",
       "      <th>ID(s) interactor B</th>\n",
       "      <th>Alt. ID(s) interactor A</th>\n",
       "      <th>Alt. ID(s) interactor B</th>\n",
       "      <th>Alias(es) interactor A</th>\n",
       "      <th>Alias(es) interactor B</th>\n",
       "      <th>Interaction detection method(s)</th>\n",
       "      <th>Publication 1st author(s)</th>\n",
       "      <th>Publication Identifier(s)</th>\n",
       "      <th>Taxid interactor A</th>\n",
       "      <th>Taxid interactor B</th>\n",
       "      <th>Interaction type(s)</th>\n",
       "      <th>Source database(s)</th>\n",
       "      <th>Interaction identifier(s)</th>\n",
       "      <th>Confidence value(s)</th>\n",
       "      <th>interactionIds</th>\n",
       "      <th>interactionId</th>\n",
       "    </tr>\n",
       "  </thead>\n",
       "  <tbody>\n",
       "    <tr>\n",
       "      <th>0</th>\n",
       "      <td>uniprotkb:P0DTD1-PRO_0000449628</td>\n",
       "      <td>uniprotkb:P0DTD1-PRO_0000449633</td>\n",
       "      <td>intact:EBI-25475880</td>\n",
       "      <td>intact:EBI-25492395</td>\n",
       "      <td>psi-mi:p0dtd1-pro_0000449628(display_long)|uni...</td>\n",
       "      <td>psi-mi:p0dtd1-pro_0000449633(display_long)|uni...</td>\n",
       "      <td>psi-mi:\"MI:0114\"(x-ray crystallography)</td>\n",
       "      <td>Krafcikova et al. (2020)</td>\n",
       "      <td>pubmed:32709887|imex:IM-28212</td>\n",
       "      <td>taxid:2697049(SARS-CoV-2)|taxid:2697049(SARS-C...</td>\n",
       "      <td>taxid:2697049(SARS-CoV-2)|taxid:2697049(SARS-C...</td>\n",
       "      <td>psi-mi:\"MI:0407\"(direct interaction)</td>\n",
       "      <td>psi-mi:\"MI:0469\"(IntAct)</td>\n",
       "      <td>intact:EBI-25763621|imex:IM-28212-1|wwpdb:6YZ1</td>\n",
       "      <td>intact-miscore:0.93</td>\n",
       "      <td>intact:EBI-25763621;imex:IM-28212-1;pdb:6YZ1</td>\n",
       "      <td>intact:EBI-25763621</td>\n",
       "    </tr>\n",
       "    <tr>\n",
       "      <th>1</th>\n",
       "      <td>uniprotkb:P0DTD1-PRO_0000449628</td>\n",
       "      <td>uniprotkb:P0DTD1-PRO_0000449633</td>\n",
       "      <td>intact:EBI-25475880</td>\n",
       "      <td>intact:EBI-25492395</td>\n",
       "      <td>psi-mi:p0dtd1-pro_0000449628(display_long)|uni...</td>\n",
       "      <td>psi-mi:p0dtd1-pro_0000449633(display_long)|uni...</td>\n",
       "      <td>psi-mi:\"MI:0071\"(molecular sieving)</td>\n",
       "      <td>Krafcikova et al. (2020)</td>\n",
       "      <td>pubmed:32709887|imex:IM-28212</td>\n",
       "      <td>taxid:2697049(SARS-CoV-2)|taxid:2697049(SARS-C...</td>\n",
       "      <td>taxid:2697049(SARS-CoV-2)|taxid:2697049(SARS-C...</td>\n",
       "      <td>psi-mi:\"MI:0407\"(direct interaction)</td>\n",
       "      <td>psi-mi:\"MI:0469\"(IntAct)</td>\n",
       "      <td>intact:EBI-25763651|imex:IM-28212-2</td>\n",
       "      <td>intact-miscore:0.93</td>\n",
       "      <td>intact:EBI-25763651;imex:IM-28212-2</td>\n",
       "      <td>intact:EBI-25763651</td>\n",
       "    </tr>\n",
       "    <tr>\n",
       "      <th>2</th>\n",
       "      <td>uniprotkb:P0DTC2</td>\n",
       "      <td>uniprotkb:P0DTC2</td>\n",
       "      <td>intact:EBI-25474821</td>\n",
       "      <td>intact:EBI-25474821</td>\n",
       "      <td>psi-mi:spike_sars2(display_long)|uniprotkb:S(g...</td>\n",
       "      <td>psi-mi:spike_sars2(display_long)|uniprotkb:S(g...</td>\n",
       "      <td>psi-mi:\"MI:0410\"(3D electron microscopy)</td>\n",
       "      <td>Hsieh et al. (2020)</td>\n",
       "      <td>pubmed:32703906|imex:IM-28214</td>\n",
       "      <td>taxid:2697049(SARS-CoV-2)|taxid:2697049(SARS-C...</td>\n",
       "      <td>taxid:2697049(SARS-CoV-2)|taxid:2697049(SARS-C...</td>\n",
       "      <td>psi-mi:\"MI:0407\"(direct interaction)</td>\n",
       "      <td>psi-mi:\"MI:0469\"(IntAct)</td>\n",
       "      <td>intact:EBI-25763710|emdb:EMD-22221|wwpdb:6xkl|...</td>\n",
       "      <td>intact-miscore:0.95</td>\n",
       "      <td>intact:EBI-25763710;emdb:EMD-22221;pdb:6xkl;im...</td>\n",
       "      <td>intact:EBI-25763710</td>\n",
       "    </tr>\n",
       "    <tr>\n",
       "      <th>3</th>\n",
       "      <td>uniprotkb:P0DTC2</td>\n",
       "      <td>uniprotkb:P0DTC2</td>\n",
       "      <td>intact:EBI-25474821</td>\n",
       "      <td>intact:EBI-25474821</td>\n",
       "      <td>psi-mi:spike_sars2(display_long)|uniprotkb:S(g...</td>\n",
       "      <td>psi-mi:spike_sars2(display_long)|uniprotkb:S(g...</td>\n",
       "      <td>psi-mi:\"MI:0410\"(3D electron microscopy)</td>\n",
       "      <td>Cai et al. (2020)</td>\n",
       "      <td>imex:IM-28256|pubmed:32694201</td>\n",
       "      <td>taxid:2697049(SARS-CoV-2)|taxid:2697049(SARS-C...</td>\n",
       "      <td>taxid:2697049(SARS-CoV-2)|taxid:2697049(SARS-C...</td>\n",
       "      <td>psi-mi:\"MI:0407\"(direct interaction)</td>\n",
       "      <td>psi-mi:\"MI:0469\"(IntAct)</td>\n",
       "      <td>intact:EBI-25766108|wwpdb:6XRA|wwpdb:6XR8|imex...</td>\n",
       "      <td>intact-miscore:0.95</td>\n",
       "      <td>intact:EBI-25766108;pdb:6XRA;pdb:6XR8;imex:IM-...</td>\n",
       "      <td>intact:EBI-25766108</td>\n",
       "    </tr>\n",
       "    <tr>\n",
       "      <th>4</th>\n",
       "      <td>uniprotkb:P0DTD1-PRO_0000449628</td>\n",
       "      <td>uniprotkb:P0DTD1-PRO_0000449633</td>\n",
       "      <td>intact:EBI-25475880</td>\n",
       "      <td>intact:EBI-25492395</td>\n",
       "      <td>psi-mi:p0dtd1-pro_0000449628(display_long)|uni...</td>\n",
       "      <td>psi-mi:p0dtd1-pro_0000449633(display_long)|uni...</td>\n",
       "      <td>psi-mi:\"MI:0114\"(x-ray crystallography)</td>\n",
       "      <td>Lin et al. (2020)</td>\n",
       "      <td>imex:IM-28230|pubmed:32728018</td>\n",
       "      <td>taxid:2697049(SARS-CoV-2)|taxid:2697049(SARS-C...</td>\n",
       "      <td>taxid:2697049(SARS-CoV-2)|taxid:2697049(SARS-C...</td>\n",
       "      <td>psi-mi:\"MI:0407\"(direct interaction)</td>\n",
       "      <td>psi-mi:\"MI:0469\"(IntAct)</td>\n",
       "      <td>intact:EBI-25766164|wwpdb:7C2I|wwpdb:7C2J|imex...</td>\n",
       "      <td>intact-miscore:0.93</td>\n",
       "      <td>intact:EBI-25766164;pdb:7C2I;pdb:7C2J;imex:IM-...</td>\n",
       "      <td>intact:EBI-25766164</td>\n",
       "    </tr>\n",
       "  </tbody>\n",
       "</table>\n",
       "</div>"
      ],
      "text/plain": [
       "               #ID(s) interactor A               ID(s) interactor B  \\\n",
       "0  uniprotkb:P0DTD1-PRO_0000449628  uniprotkb:P0DTD1-PRO_0000449633   \n",
       "1  uniprotkb:P0DTD1-PRO_0000449628  uniprotkb:P0DTD1-PRO_0000449633   \n",
       "2                 uniprotkb:P0DTC2                 uniprotkb:P0DTC2   \n",
       "3                 uniprotkb:P0DTC2                 uniprotkb:P0DTC2   \n",
       "4  uniprotkb:P0DTD1-PRO_0000449628  uniprotkb:P0DTD1-PRO_0000449633   \n",
       "\n",
       "  Alt. ID(s) interactor A Alt. ID(s) interactor B  \\\n",
       "0     intact:EBI-25475880     intact:EBI-25492395   \n",
       "1     intact:EBI-25475880     intact:EBI-25492395   \n",
       "2     intact:EBI-25474821     intact:EBI-25474821   \n",
       "3     intact:EBI-25474821     intact:EBI-25474821   \n",
       "4     intact:EBI-25475880     intact:EBI-25492395   \n",
       "\n",
       "                              Alias(es) interactor A  \\\n",
       "0  psi-mi:p0dtd1-pro_0000449628(display_long)|uni...   \n",
       "1  psi-mi:p0dtd1-pro_0000449628(display_long)|uni...   \n",
       "2  psi-mi:spike_sars2(display_long)|uniprotkb:S(g...   \n",
       "3  psi-mi:spike_sars2(display_long)|uniprotkb:S(g...   \n",
       "4  psi-mi:p0dtd1-pro_0000449628(display_long)|uni...   \n",
       "\n",
       "                              Alias(es) interactor B  \\\n",
       "0  psi-mi:p0dtd1-pro_0000449633(display_long)|uni...   \n",
       "1  psi-mi:p0dtd1-pro_0000449633(display_long)|uni...   \n",
       "2  psi-mi:spike_sars2(display_long)|uniprotkb:S(g...   \n",
       "3  psi-mi:spike_sars2(display_long)|uniprotkb:S(g...   \n",
       "4  psi-mi:p0dtd1-pro_0000449633(display_long)|uni...   \n",
       "\n",
       "            Interaction detection method(s) Publication 1st author(s)  \\\n",
       "0   psi-mi:\"MI:0114\"(x-ray crystallography)  Krafcikova et al. (2020)   \n",
       "1       psi-mi:\"MI:0071\"(molecular sieving)  Krafcikova et al. (2020)   \n",
       "2  psi-mi:\"MI:0410\"(3D electron microscopy)       Hsieh et al. (2020)   \n",
       "3  psi-mi:\"MI:0410\"(3D electron microscopy)         Cai et al. (2020)   \n",
       "4   psi-mi:\"MI:0114\"(x-ray crystallography)         Lin et al. (2020)   \n",
       "\n",
       "       Publication Identifier(s)  \\\n",
       "0  pubmed:32709887|imex:IM-28212   \n",
       "1  pubmed:32709887|imex:IM-28212   \n",
       "2  pubmed:32703906|imex:IM-28214   \n",
       "3  imex:IM-28256|pubmed:32694201   \n",
       "4  imex:IM-28230|pubmed:32728018   \n",
       "\n",
       "                                  Taxid interactor A  \\\n",
       "0  taxid:2697049(SARS-CoV-2)|taxid:2697049(SARS-C...   \n",
       "1  taxid:2697049(SARS-CoV-2)|taxid:2697049(SARS-C...   \n",
       "2  taxid:2697049(SARS-CoV-2)|taxid:2697049(SARS-C...   \n",
       "3  taxid:2697049(SARS-CoV-2)|taxid:2697049(SARS-C...   \n",
       "4  taxid:2697049(SARS-CoV-2)|taxid:2697049(SARS-C...   \n",
       "\n",
       "                                  Taxid interactor B  \\\n",
       "0  taxid:2697049(SARS-CoV-2)|taxid:2697049(SARS-C...   \n",
       "1  taxid:2697049(SARS-CoV-2)|taxid:2697049(SARS-C...   \n",
       "2  taxid:2697049(SARS-CoV-2)|taxid:2697049(SARS-C...   \n",
       "3  taxid:2697049(SARS-CoV-2)|taxid:2697049(SARS-C...   \n",
       "4  taxid:2697049(SARS-CoV-2)|taxid:2697049(SARS-C...   \n",
       "\n",
       "                    Interaction type(s)        Source database(s)  \\\n",
       "0  psi-mi:\"MI:0407\"(direct interaction)  psi-mi:\"MI:0469\"(IntAct)   \n",
       "1  psi-mi:\"MI:0407\"(direct interaction)  psi-mi:\"MI:0469\"(IntAct)   \n",
       "2  psi-mi:\"MI:0407\"(direct interaction)  psi-mi:\"MI:0469\"(IntAct)   \n",
       "3  psi-mi:\"MI:0407\"(direct interaction)  psi-mi:\"MI:0469\"(IntAct)   \n",
       "4  psi-mi:\"MI:0407\"(direct interaction)  psi-mi:\"MI:0469\"(IntAct)   \n",
       "\n",
       "                           Interaction identifier(s)  Confidence value(s)  \\\n",
       "0     intact:EBI-25763621|imex:IM-28212-1|wwpdb:6YZ1  intact-miscore:0.93   \n",
       "1                intact:EBI-25763651|imex:IM-28212-2  intact-miscore:0.93   \n",
       "2  intact:EBI-25763710|emdb:EMD-22221|wwpdb:6xkl|...  intact-miscore:0.95   \n",
       "3  intact:EBI-25766108|wwpdb:6XRA|wwpdb:6XR8|imex...  intact-miscore:0.95   \n",
       "4  intact:EBI-25766164|wwpdb:7C2I|wwpdb:7C2J|imex...  intact-miscore:0.93   \n",
       "\n",
       "                                      interactionIds        interactionId  \n",
       "0       intact:EBI-25763621;imex:IM-28212-1;pdb:6YZ1  intact:EBI-25763621  \n",
       "1                intact:EBI-25763651;imex:IM-28212-2  intact:EBI-25763651  \n",
       "2  intact:EBI-25763710;emdb:EMD-22221;pdb:6xkl;im...  intact:EBI-25763710  \n",
       "3  intact:EBI-25766108;pdb:6XRA;pdb:6XR8;imex:IM-...  intact:EBI-25766108  \n",
       "4  intact:EBI-25766164;pdb:7C2I;pdb:7C2J;imex:IM-...  intact:EBI-25766164  "
      ]
     },
     "execution_count": 14,
     "metadata": {},
     "output_type": "execute_result"
    }
   ],
   "source": [
    "data.head()"
   ]
  },
  {
   "cell_type": "markdown",
   "metadata": {},
   "source": [
    "#### Apply naming conventions"
   ]
  },
  {
   "cell_type": "code",
   "execution_count": 15,
   "metadata": {},
   "outputs": [],
   "source": [
    "data.rename(columns={'Alt. ID(s) interactor A': 'interactorA', 'Alt. ID(s) interactor B': 'interactorB'}, inplace=True)"
   ]
  },
  {
   "cell_type": "markdown",
   "metadata": {},
   "source": [
    "#### Extract UniProt accession number and Uniprot protein ids from interactor columns"
   ]
  },
  {
   "cell_type": "code",
   "execution_count": 16,
   "metadata": {},
   "outputs": [],
   "source": [
    "# uniprot:P0DTD1-PRO_0000449619 -> P0DTD1-PRO_0000449619\n",
    "data['id_a'] = data['#ID(s) interactor A'].str.replace('uniprotkb:', '')\n",
    "data['id_b'] = data['ID(s) interactor B'].str.replace('uniprotkb:', '')\n",
    "\n",
    "# P0DTD1-PRO_0000449619 -> P0DTD1 (UniProt accession number)\n",
    "data['accessionA'] = data['id_a'].str.split('-PRO', expand=True)[0]\n",
    "data['accessionB'] = data['id_b'].str.split('-PRO', expand=True)[0]\n",
    "\n",
    "# Remove isoform id: Q9UBL6-2 -> Q9UBL6\n",
    "data['accessionA'] = data['accessionA'].str.split('-', expand=True)[0]\n",
    "data['accessionB'] = data['accessionB'].str.split('-', expand=True)[0]\n",
    "\n",
    "# ADD CURIE \"uniprot\" as prefix (see https://registry.identifiers.org/registry/uniprot)\n",
    "data['accessionA'] = 'uniprot:' + data['accessionA']\n",
    "data['accessionB'] = 'uniprot:' + data['accessionB']\n",
    "\n",
    "# P0DTD1-PRO_0000449619 -> PRO_0000449619 (UniProt protein id)\n",
    "data['proIdA'] = data['id_a'].str.split('-PRO', expand=True)[1]\n",
    "data['proIdB'] = data['id_b'].str.split('-PRO', expand=True)[1]\n",
    "\n",
    "# Add CURIE \"uniprot.chain\" as prefix (see https://registry.identifiers.org/registry/uniprot.chain)\n",
    "data['proIdA'] = data['proIdA'].str.replace('_', 'uniprot.chain:PRO_')\n",
    "data['proIdB'] = data['proIdB'].str.replace('_', 'uniprot.chain:PRO_')"
   ]
  },
  {
   "cell_type": "code",
   "execution_count": 17,
   "metadata": {},
   "outputs": [],
   "source": [
    "# extract text descriptions in  parenthesis\n",
    "data['detectionMethod'] = data['Interaction detection method(s)'].str.extract('.*\\((.*)\\).*') \n",
    "data['interactionType'] = data['Interaction type(s)'].str.extract('.*\\((.*)\\).*') "
   ]
  },
  {
   "cell_type": "code",
   "execution_count": 18,
   "metadata": {},
   "outputs": [],
   "source": [
    "# set no-numerical values to \"\"\n",
    "data['confidenceValue'] = data['Confidence value(s)'].str.split(':', expand=True)[1]\n",
    "data['confidenceValue'] = data['confidenceValue'].apply(lambda s: s if s and s.replace('.','',1).isdigit() else '')"
   ]
  },
  {
   "cell_type": "code",
   "execution_count": 19,
   "metadata": {},
   "outputs": [
    {
     "data": {
      "text/plain": [
       "array(['0.93', '0.95', '0.84', '0.49', '0.94', '0.36', '0.56', '0.37',\n",
       "       '0.82', '0.44', '0.27', '0.35', '0.32', '0.66', '0.99', '0.54',\n",
       "       '0.80', '0.77', '0.72', '0.64', '0.50', '0.40', '0.71', '0.62',\n",
       "       '0.46', '0.63', '0.87', '0.53', '0.59', '0.73', '0.60', '0.67',\n",
       "       '0.52', '0.51', '0.91', '0.61', '0.81', '0.98', '0.57', '0.65',\n",
       "       '0.89', '0.74', '0.75', '0.76', '0.68', '0.42', '0.58', '0.69',\n",
       "       '0.55', '0.43', '0.97', '0.83', '', '0.79', '0.92', '0.45', '0.70',\n",
       "       '0.48', '0.85', '0.90', '0.86', '0.88', '0.96', '0.78', '0.47',\n",
       "       '0.38', '0.41', '0.28', '0.23', '0.31', '0.22', '0.34'],\n",
       "      dtype=object)"
      ]
     },
     "execution_count": 19,
     "metadata": {},
     "output_type": "execute_result"
    }
   ],
   "source": [
    "data['confidenceValue'].unique()"
   ]
  },
  {
   "cell_type": "markdown",
   "metadata": {},
   "source": [
    "#### Extract pubmed id\n",
    "Example: imex:IM-27912|pubmed:32275855 -> 2275855"
   ]
  },
  {
   "cell_type": "code",
   "execution_count": 20,
   "metadata": {},
   "outputs": [],
   "source": [
    "data['pubmedId'] = data['Publication Identifier(s)'].str.extract('pubmed:(\\d*)')\n",
    "# add CURIE prefix if pubmedId exists\n",
    "data['pubmedId'] = data['pubmedId'].apply(lambda s: 'pubmed:' + s if len(s) > 0 else '')"
   ]
  },
  {
   "cell_type": "markdown",
   "metadata": {},
   "source": [
    "#### Extract taxonomy id\n",
    "Example: taxid:9606(human)|taxid:9606(Homo sapiens) -> 9606"
   ]
  },
  {
   "cell_type": "code",
   "execution_count": 21,
   "metadata": {},
   "outputs": [],
   "source": [
    "data['taxonomyIdA'] = data['Taxid interactor A'].str.extract('taxid:(\\d*)\\(')\n",
    "data['taxonomyIdB'] = data['Taxid interactor B'].str.extract('taxid:(\\d*)\\(')"
   ]
  },
  {
   "cell_type": "code",
   "execution_count": 22,
   "metadata": {},
   "outputs": [],
   "source": [
    "data.fillna('', inplace=True)"
   ]
  },
  {
   "cell_type": "code",
   "execution_count": 23,
   "metadata": {},
   "outputs": [
    {
     "data": {
      "text/html": [
       "<div>\n",
       "<style scoped>\n",
       "    .dataframe tbody tr th:only-of-type {\n",
       "        vertical-align: middle;\n",
       "    }\n",
       "\n",
       "    .dataframe tbody tr th {\n",
       "        vertical-align: top;\n",
       "    }\n",
       "\n",
       "    .dataframe thead th {\n",
       "        text-align: right;\n",
       "    }\n",
       "</style>\n",
       "<table border=\"1\" class=\"dataframe\">\n",
       "  <thead>\n",
       "    <tr style=\"text-align: right;\">\n",
       "      <th></th>\n",
       "      <th>#ID(s) interactor A</th>\n",
       "      <th>ID(s) interactor B</th>\n",
       "      <th>interactorA</th>\n",
       "      <th>interactorB</th>\n",
       "      <th>Alias(es) interactor A</th>\n",
       "      <th>Alias(es) interactor B</th>\n",
       "      <th>Interaction detection method(s)</th>\n",
       "      <th>Publication 1st author(s)</th>\n",
       "      <th>Publication Identifier(s)</th>\n",
       "      <th>Taxid interactor A</th>\n",
       "      <th>Taxid interactor B</th>\n",
       "      <th>Interaction type(s)</th>\n",
       "      <th>Source database(s)</th>\n",
       "      <th>Interaction identifier(s)</th>\n",
       "      <th>Confidence value(s)</th>\n",
       "      <th>interactionIds</th>\n",
       "      <th>interactionId</th>\n",
       "      <th>id_a</th>\n",
       "      <th>id_b</th>\n",
       "      <th>accessionA</th>\n",
       "      <th>accessionB</th>\n",
       "      <th>proIdA</th>\n",
       "      <th>proIdB</th>\n",
       "      <th>detectionMethod</th>\n",
       "      <th>interactionType</th>\n",
       "      <th>confidenceValue</th>\n",
       "      <th>pubmedId</th>\n",
       "      <th>taxonomyIdA</th>\n",
       "      <th>taxonomyIdB</th>\n",
       "    </tr>\n",
       "  </thead>\n",
       "  <tbody>\n",
       "    <tr>\n",
       "      <th>0</th>\n",
       "      <td>uniprotkb:P0DTD1-PRO_0000449628</td>\n",
       "      <td>uniprotkb:P0DTD1-PRO_0000449633</td>\n",
       "      <td>intact:EBI-25475880</td>\n",
       "      <td>intact:EBI-25492395</td>\n",
       "      <td>psi-mi:p0dtd1-pro_0000449628(display_long)|uni...</td>\n",
       "      <td>psi-mi:p0dtd1-pro_0000449633(display_long)|uni...</td>\n",
       "      <td>psi-mi:\"MI:0114\"(x-ray crystallography)</td>\n",
       "      <td>Krafcikova et al. (2020)</td>\n",
       "      <td>pubmed:32709887|imex:IM-28212</td>\n",
       "      <td>taxid:2697049(SARS-CoV-2)|taxid:2697049(SARS-C...</td>\n",
       "      <td>taxid:2697049(SARS-CoV-2)|taxid:2697049(SARS-C...</td>\n",
       "      <td>psi-mi:\"MI:0407\"(direct interaction)</td>\n",
       "      <td>psi-mi:\"MI:0469\"(IntAct)</td>\n",
       "      <td>intact:EBI-25763621|imex:IM-28212-1|wwpdb:6YZ1</td>\n",
       "      <td>intact-miscore:0.93</td>\n",
       "      <td>intact:EBI-25763621;imex:IM-28212-1;pdb:6YZ1</td>\n",
       "      <td>intact:EBI-25763621</td>\n",
       "      <td>P0DTD1-PRO_0000449628</td>\n",
       "      <td>P0DTD1-PRO_0000449633</td>\n",
       "      <td>uniprot:P0DTD1</td>\n",
       "      <td>uniprot:P0DTD1</td>\n",
       "      <td>uniprot.chain:PRO_0000449628</td>\n",
       "      <td>uniprot.chain:PRO_0000449633</td>\n",
       "      <td>x-ray crystallography</td>\n",
       "      <td>direct interaction</td>\n",
       "      <td>0.93</td>\n",
       "      <td>pubmed:32709887</td>\n",
       "      <td>2697049</td>\n",
       "      <td>2697049</td>\n",
       "    </tr>\n",
       "    <tr>\n",
       "      <th>1</th>\n",
       "      <td>uniprotkb:P0DTD1-PRO_0000449628</td>\n",
       "      <td>uniprotkb:P0DTD1-PRO_0000449633</td>\n",
       "      <td>intact:EBI-25475880</td>\n",
       "      <td>intact:EBI-25492395</td>\n",
       "      <td>psi-mi:p0dtd1-pro_0000449628(display_long)|uni...</td>\n",
       "      <td>psi-mi:p0dtd1-pro_0000449633(display_long)|uni...</td>\n",
       "      <td>psi-mi:\"MI:0071\"(molecular sieving)</td>\n",
       "      <td>Krafcikova et al. (2020)</td>\n",
       "      <td>pubmed:32709887|imex:IM-28212</td>\n",
       "      <td>taxid:2697049(SARS-CoV-2)|taxid:2697049(SARS-C...</td>\n",
       "      <td>taxid:2697049(SARS-CoV-2)|taxid:2697049(SARS-C...</td>\n",
       "      <td>psi-mi:\"MI:0407\"(direct interaction)</td>\n",
       "      <td>psi-mi:\"MI:0469\"(IntAct)</td>\n",
       "      <td>intact:EBI-25763651|imex:IM-28212-2</td>\n",
       "      <td>intact-miscore:0.93</td>\n",
       "      <td>intact:EBI-25763651;imex:IM-28212-2</td>\n",
       "      <td>intact:EBI-25763651</td>\n",
       "      <td>P0DTD1-PRO_0000449628</td>\n",
       "      <td>P0DTD1-PRO_0000449633</td>\n",
       "      <td>uniprot:P0DTD1</td>\n",
       "      <td>uniprot:P0DTD1</td>\n",
       "      <td>uniprot.chain:PRO_0000449628</td>\n",
       "      <td>uniprot.chain:PRO_0000449633</td>\n",
       "      <td>molecular sieving</td>\n",
       "      <td>direct interaction</td>\n",
       "      <td>0.93</td>\n",
       "      <td>pubmed:32709887</td>\n",
       "      <td>2697049</td>\n",
       "      <td>2697049</td>\n",
       "    </tr>\n",
       "    <tr>\n",
       "      <th>2</th>\n",
       "      <td>uniprotkb:P0DTC2</td>\n",
       "      <td>uniprotkb:P0DTC2</td>\n",
       "      <td>intact:EBI-25474821</td>\n",
       "      <td>intact:EBI-25474821</td>\n",
       "      <td>psi-mi:spike_sars2(display_long)|uniprotkb:S(g...</td>\n",
       "      <td>psi-mi:spike_sars2(display_long)|uniprotkb:S(g...</td>\n",
       "      <td>psi-mi:\"MI:0410\"(3D electron microscopy)</td>\n",
       "      <td>Hsieh et al. (2020)</td>\n",
       "      <td>pubmed:32703906|imex:IM-28214</td>\n",
       "      <td>taxid:2697049(SARS-CoV-2)|taxid:2697049(SARS-C...</td>\n",
       "      <td>taxid:2697049(SARS-CoV-2)|taxid:2697049(SARS-C...</td>\n",
       "      <td>psi-mi:\"MI:0407\"(direct interaction)</td>\n",
       "      <td>psi-mi:\"MI:0469\"(IntAct)</td>\n",
       "      <td>intact:EBI-25763710|emdb:EMD-22221|wwpdb:6xkl|...</td>\n",
       "      <td>intact-miscore:0.95</td>\n",
       "      <td>intact:EBI-25763710;emdb:EMD-22221;pdb:6xkl;im...</td>\n",
       "      <td>intact:EBI-25763710</td>\n",
       "      <td>P0DTC2</td>\n",
       "      <td>P0DTC2</td>\n",
       "      <td>uniprot:P0DTC2</td>\n",
       "      <td>uniprot:P0DTC2</td>\n",
       "      <td></td>\n",
       "      <td></td>\n",
       "      <td>3D electron microscopy</td>\n",
       "      <td>direct interaction</td>\n",
       "      <td>0.95</td>\n",
       "      <td>pubmed:32703906</td>\n",
       "      <td>2697049</td>\n",
       "      <td>2697049</td>\n",
       "    </tr>\n",
       "    <tr>\n",
       "      <th>3</th>\n",
       "      <td>uniprotkb:P0DTC2</td>\n",
       "      <td>uniprotkb:P0DTC2</td>\n",
       "      <td>intact:EBI-25474821</td>\n",
       "      <td>intact:EBI-25474821</td>\n",
       "      <td>psi-mi:spike_sars2(display_long)|uniprotkb:S(g...</td>\n",
       "      <td>psi-mi:spike_sars2(display_long)|uniprotkb:S(g...</td>\n",
       "      <td>psi-mi:\"MI:0410\"(3D electron microscopy)</td>\n",
       "      <td>Cai et al. (2020)</td>\n",
       "      <td>imex:IM-28256|pubmed:32694201</td>\n",
       "      <td>taxid:2697049(SARS-CoV-2)|taxid:2697049(SARS-C...</td>\n",
       "      <td>taxid:2697049(SARS-CoV-2)|taxid:2697049(SARS-C...</td>\n",
       "      <td>psi-mi:\"MI:0407\"(direct interaction)</td>\n",
       "      <td>psi-mi:\"MI:0469\"(IntAct)</td>\n",
       "      <td>intact:EBI-25766108|wwpdb:6XRA|wwpdb:6XR8|imex...</td>\n",
       "      <td>intact-miscore:0.95</td>\n",
       "      <td>intact:EBI-25766108;pdb:6XRA;pdb:6XR8;imex:IM-...</td>\n",
       "      <td>intact:EBI-25766108</td>\n",
       "      <td>P0DTC2</td>\n",
       "      <td>P0DTC2</td>\n",
       "      <td>uniprot:P0DTC2</td>\n",
       "      <td>uniprot:P0DTC2</td>\n",
       "      <td></td>\n",
       "      <td></td>\n",
       "      <td>3D electron microscopy</td>\n",
       "      <td>direct interaction</td>\n",
       "      <td>0.95</td>\n",
       "      <td>pubmed:32694201</td>\n",
       "      <td>2697049</td>\n",
       "      <td>2697049</td>\n",
       "    </tr>\n",
       "    <tr>\n",
       "      <th>4</th>\n",
       "      <td>uniprotkb:P0DTD1-PRO_0000449628</td>\n",
       "      <td>uniprotkb:P0DTD1-PRO_0000449633</td>\n",
       "      <td>intact:EBI-25475880</td>\n",
       "      <td>intact:EBI-25492395</td>\n",
       "      <td>psi-mi:p0dtd1-pro_0000449628(display_long)|uni...</td>\n",
       "      <td>psi-mi:p0dtd1-pro_0000449633(display_long)|uni...</td>\n",
       "      <td>psi-mi:\"MI:0114\"(x-ray crystallography)</td>\n",
       "      <td>Lin et al. (2020)</td>\n",
       "      <td>imex:IM-28230|pubmed:32728018</td>\n",
       "      <td>taxid:2697049(SARS-CoV-2)|taxid:2697049(SARS-C...</td>\n",
       "      <td>taxid:2697049(SARS-CoV-2)|taxid:2697049(SARS-C...</td>\n",
       "      <td>psi-mi:\"MI:0407\"(direct interaction)</td>\n",
       "      <td>psi-mi:\"MI:0469\"(IntAct)</td>\n",
       "      <td>intact:EBI-25766164|wwpdb:7C2I|wwpdb:7C2J|imex...</td>\n",
       "      <td>intact-miscore:0.93</td>\n",
       "      <td>intact:EBI-25766164;pdb:7C2I;pdb:7C2J;imex:IM-...</td>\n",
       "      <td>intact:EBI-25766164</td>\n",
       "      <td>P0DTD1-PRO_0000449628</td>\n",
       "      <td>P0DTD1-PRO_0000449633</td>\n",
       "      <td>uniprot:P0DTD1</td>\n",
       "      <td>uniprot:P0DTD1</td>\n",
       "      <td>uniprot.chain:PRO_0000449628</td>\n",
       "      <td>uniprot.chain:PRO_0000449633</td>\n",
       "      <td>x-ray crystallography</td>\n",
       "      <td>direct interaction</td>\n",
       "      <td>0.93</td>\n",
       "      <td>pubmed:32728018</td>\n",
       "      <td>2697049</td>\n",
       "      <td>2697049</td>\n",
       "    </tr>\n",
       "  </tbody>\n",
       "</table>\n",
       "</div>"
      ],
      "text/plain": [
       "               #ID(s) interactor A               ID(s) interactor B  \\\n",
       "0  uniprotkb:P0DTD1-PRO_0000449628  uniprotkb:P0DTD1-PRO_0000449633   \n",
       "1  uniprotkb:P0DTD1-PRO_0000449628  uniprotkb:P0DTD1-PRO_0000449633   \n",
       "2                 uniprotkb:P0DTC2                 uniprotkb:P0DTC2   \n",
       "3                 uniprotkb:P0DTC2                 uniprotkb:P0DTC2   \n",
       "4  uniprotkb:P0DTD1-PRO_0000449628  uniprotkb:P0DTD1-PRO_0000449633   \n",
       "\n",
       "           interactorA          interactorB  \\\n",
       "0  intact:EBI-25475880  intact:EBI-25492395   \n",
       "1  intact:EBI-25475880  intact:EBI-25492395   \n",
       "2  intact:EBI-25474821  intact:EBI-25474821   \n",
       "3  intact:EBI-25474821  intact:EBI-25474821   \n",
       "4  intact:EBI-25475880  intact:EBI-25492395   \n",
       "\n",
       "                              Alias(es) interactor A  \\\n",
       "0  psi-mi:p0dtd1-pro_0000449628(display_long)|uni...   \n",
       "1  psi-mi:p0dtd1-pro_0000449628(display_long)|uni...   \n",
       "2  psi-mi:spike_sars2(display_long)|uniprotkb:S(g...   \n",
       "3  psi-mi:spike_sars2(display_long)|uniprotkb:S(g...   \n",
       "4  psi-mi:p0dtd1-pro_0000449628(display_long)|uni...   \n",
       "\n",
       "                              Alias(es) interactor B  \\\n",
       "0  psi-mi:p0dtd1-pro_0000449633(display_long)|uni...   \n",
       "1  psi-mi:p0dtd1-pro_0000449633(display_long)|uni...   \n",
       "2  psi-mi:spike_sars2(display_long)|uniprotkb:S(g...   \n",
       "3  psi-mi:spike_sars2(display_long)|uniprotkb:S(g...   \n",
       "4  psi-mi:p0dtd1-pro_0000449633(display_long)|uni...   \n",
       "\n",
       "            Interaction detection method(s) Publication 1st author(s)  \\\n",
       "0   psi-mi:\"MI:0114\"(x-ray crystallography)  Krafcikova et al. (2020)   \n",
       "1       psi-mi:\"MI:0071\"(molecular sieving)  Krafcikova et al. (2020)   \n",
       "2  psi-mi:\"MI:0410\"(3D electron microscopy)       Hsieh et al. (2020)   \n",
       "3  psi-mi:\"MI:0410\"(3D electron microscopy)         Cai et al. (2020)   \n",
       "4   psi-mi:\"MI:0114\"(x-ray crystallography)         Lin et al. (2020)   \n",
       "\n",
       "       Publication Identifier(s)  \\\n",
       "0  pubmed:32709887|imex:IM-28212   \n",
       "1  pubmed:32709887|imex:IM-28212   \n",
       "2  pubmed:32703906|imex:IM-28214   \n",
       "3  imex:IM-28256|pubmed:32694201   \n",
       "4  imex:IM-28230|pubmed:32728018   \n",
       "\n",
       "                                  Taxid interactor A  \\\n",
       "0  taxid:2697049(SARS-CoV-2)|taxid:2697049(SARS-C...   \n",
       "1  taxid:2697049(SARS-CoV-2)|taxid:2697049(SARS-C...   \n",
       "2  taxid:2697049(SARS-CoV-2)|taxid:2697049(SARS-C...   \n",
       "3  taxid:2697049(SARS-CoV-2)|taxid:2697049(SARS-C...   \n",
       "4  taxid:2697049(SARS-CoV-2)|taxid:2697049(SARS-C...   \n",
       "\n",
       "                                  Taxid interactor B  \\\n",
       "0  taxid:2697049(SARS-CoV-2)|taxid:2697049(SARS-C...   \n",
       "1  taxid:2697049(SARS-CoV-2)|taxid:2697049(SARS-C...   \n",
       "2  taxid:2697049(SARS-CoV-2)|taxid:2697049(SARS-C...   \n",
       "3  taxid:2697049(SARS-CoV-2)|taxid:2697049(SARS-C...   \n",
       "4  taxid:2697049(SARS-CoV-2)|taxid:2697049(SARS-C...   \n",
       "\n",
       "                    Interaction type(s)        Source database(s)  \\\n",
       "0  psi-mi:\"MI:0407\"(direct interaction)  psi-mi:\"MI:0469\"(IntAct)   \n",
       "1  psi-mi:\"MI:0407\"(direct interaction)  psi-mi:\"MI:0469\"(IntAct)   \n",
       "2  psi-mi:\"MI:0407\"(direct interaction)  psi-mi:\"MI:0469\"(IntAct)   \n",
       "3  psi-mi:\"MI:0407\"(direct interaction)  psi-mi:\"MI:0469\"(IntAct)   \n",
       "4  psi-mi:\"MI:0407\"(direct interaction)  psi-mi:\"MI:0469\"(IntAct)   \n",
       "\n",
       "                           Interaction identifier(s)  Confidence value(s)  \\\n",
       "0     intact:EBI-25763621|imex:IM-28212-1|wwpdb:6YZ1  intact-miscore:0.93   \n",
       "1                intact:EBI-25763651|imex:IM-28212-2  intact-miscore:0.93   \n",
       "2  intact:EBI-25763710|emdb:EMD-22221|wwpdb:6xkl|...  intact-miscore:0.95   \n",
       "3  intact:EBI-25766108|wwpdb:6XRA|wwpdb:6XR8|imex...  intact-miscore:0.95   \n",
       "4  intact:EBI-25766164|wwpdb:7C2I|wwpdb:7C2J|imex...  intact-miscore:0.93   \n",
       "\n",
       "                                      interactionIds        interactionId  \\\n",
       "0       intact:EBI-25763621;imex:IM-28212-1;pdb:6YZ1  intact:EBI-25763621   \n",
       "1                intact:EBI-25763651;imex:IM-28212-2  intact:EBI-25763651   \n",
       "2  intact:EBI-25763710;emdb:EMD-22221;pdb:6xkl;im...  intact:EBI-25763710   \n",
       "3  intact:EBI-25766108;pdb:6XRA;pdb:6XR8;imex:IM-...  intact:EBI-25766108   \n",
       "4  intact:EBI-25766164;pdb:7C2I;pdb:7C2J;imex:IM-...  intact:EBI-25766164   \n",
       "\n",
       "                    id_a                   id_b      accessionA  \\\n",
       "0  P0DTD1-PRO_0000449628  P0DTD1-PRO_0000449633  uniprot:P0DTD1   \n",
       "1  P0DTD1-PRO_0000449628  P0DTD1-PRO_0000449633  uniprot:P0DTD1   \n",
       "2                 P0DTC2                 P0DTC2  uniprot:P0DTC2   \n",
       "3                 P0DTC2                 P0DTC2  uniprot:P0DTC2   \n",
       "4  P0DTD1-PRO_0000449628  P0DTD1-PRO_0000449633  uniprot:P0DTD1   \n",
       "\n",
       "       accessionB                        proIdA                        proIdB  \\\n",
       "0  uniprot:P0DTD1  uniprot.chain:PRO_0000449628  uniprot.chain:PRO_0000449633   \n",
       "1  uniprot:P0DTD1  uniprot.chain:PRO_0000449628  uniprot.chain:PRO_0000449633   \n",
       "2  uniprot:P0DTC2                                                               \n",
       "3  uniprot:P0DTC2                                                               \n",
       "4  uniprot:P0DTD1  uniprot.chain:PRO_0000449628  uniprot.chain:PRO_0000449633   \n",
       "\n",
       "          detectionMethod     interactionType confidenceValue  \\\n",
       "0   x-ray crystallography  direct interaction            0.93   \n",
       "1       molecular sieving  direct interaction            0.93   \n",
       "2  3D electron microscopy  direct interaction            0.95   \n",
       "3  3D electron microscopy  direct interaction            0.95   \n",
       "4   x-ray crystallography  direct interaction            0.93   \n",
       "\n",
       "          pubmedId taxonomyIdA taxonomyIdB  \n",
       "0  pubmed:32709887     2697049     2697049  \n",
       "1  pubmed:32709887     2697049     2697049  \n",
       "2  pubmed:32703906     2697049     2697049  \n",
       "3  pubmed:32694201     2697049     2697049  \n",
       "4  pubmed:32728018     2697049     2697049  "
      ]
     },
     "execution_count": 23,
     "metadata": {},
     "output_type": "execute_result"
    }
   ],
   "source": [
    "data.head()"
   ]
  },
  {
   "cell_type": "markdown",
   "metadata": {},
   "source": [
    "#### Restrict data to the set of currently supported taxonomy ids"
   ]
  },
  {
   "cell_type": "code",
   "execution_count": 24,
   "metadata": {},
   "outputs": [],
   "source": [
    "data = data[data['taxonomyIdA'].isin(taxonomy_ids) & data['taxonomyIdB'].isin(taxonomy_ids)]"
   ]
  },
  {
   "cell_type": "code",
   "execution_count": 25,
   "metadata": {},
   "outputs": [
    {
     "data": {
      "text/plain": [
       "(415577, 29)"
      ]
     },
     "execution_count": 25,
     "metadata": {},
     "output_type": "execute_result"
    }
   ],
   "source": [
    "data.shape"
   ]
  },
  {
   "cell_type": "markdown",
   "metadata": {},
   "source": [
    "Remove data with accession numbers that are not UniProt accession numbers"
   ]
  },
  {
   "cell_type": "code",
   "execution_count": 26,
   "metadata": {},
   "outputs": [],
   "source": [
    "data = data[~(data['id_a'].str.contains(':')) & ~(data['id_b'].str.contains(':'))]"
   ]
  },
  {
   "cell_type": "code",
   "execution_count": 27,
   "metadata": {},
   "outputs": [
    {
     "data": {
      "text/plain": [
       "(392103, 29)"
      ]
     },
     "execution_count": 27,
     "metadata": {},
     "output_type": "execute_result"
    }
   ],
   "source": [
    "data.shape"
   ]
  },
  {
   "cell_type": "markdown",
   "metadata": {},
   "source": [
    "Remove self-interactions (they make graph display too crowded)"
   ]
  },
  {
   "cell_type": "code",
   "execution_count": 28,
   "metadata": {},
   "outputs": [],
   "source": [
    "data = data[~(data['accessionA'] == data['accessionB'])]"
   ]
  },
  {
   "cell_type": "code",
   "execution_count": 29,
   "metadata": {},
   "outputs": [
    {
     "data": {
      "text/plain": [
       "(383651, 29)"
      ]
     },
     "execution_count": 29,
     "metadata": {},
     "output_type": "execute_result"
    }
   ],
   "source": [
    "data.shape"
   ]
  },
  {
   "cell_type": "code",
   "execution_count": 30,
   "metadata": {},
   "outputs": [],
   "source": [
    "data['taxonomyIdA'] = 'taxonomy:' + data['taxonomyIdA']\n",
    "data['taxonomyIdB'] = 'taxonomy:' + data['taxonomyIdB']"
   ]
  },
  {
   "cell_type": "code",
   "execution_count": 31,
   "metadata": {},
   "outputs": [],
   "source": [
    "data['source'] = 'IntAct'"
   ]
  },
  {
   "cell_type": "code",
   "execution_count": 32,
   "metadata": {},
   "outputs": [],
   "source": [
    "data = data[['accessionA', 'accessionB', 'proIdA', 'proIdB', 'taxonomyIdA', 'taxonomyIdB', 'interactionId', 'interactionIds', 'interactionType', 'detectionMethod', 'confidenceValue','pubmedId']]"
   ]
  },
  {
   "cell_type": "code",
   "execution_count": 33,
   "metadata": {},
   "outputs": [],
   "source": [
    "def unique_id(row):\n",
    "    if row.accessionA > row.accessionB:\n",
    "        return row.accessionB + '_' + row.accessionA + '_' + row.proIdB + '_' + row.proIdA\n",
    "    else:\n",
    "        return row.accessionA + '_' + row.accessionB + '_' + row.proIdA + '_' + row.proIdB"
   ]
  },
  {
   "cell_type": "code",
   "execution_count": 34,
   "metadata": {},
   "outputs": [],
   "source": [
    "data['id'] = data.apply(lambda r: unique_id(r), axis=1)"
   ]
  },
  {
   "cell_type": "code",
   "execution_count": 35,
   "metadata": {},
   "outputs": [],
   "source": [
    "def weight(row):\n",
    "    value = 0.0\n",
    "    # records with higher confidence value have priority\n",
    "    if row.confidenceValue != '':\n",
    "        value = float(row.confidenceValue)\n",
    "    # records with a pubmedId have priority\n",
    "    if row.pubmedId != '':\n",
    "        value += 0.001\n",
    "        \n",
    "    return value"
   ]
  },
  {
   "cell_type": "code",
   "execution_count": 36,
   "metadata": {},
   "outputs": [],
   "source": [
    "data['weight'] = data.apply(lambda r: weight(r), axis=1)"
   ]
  },
  {
   "cell_type": "code",
   "execution_count": 37,
   "metadata": {},
   "outputs": [],
   "source": [
    "data.sort_values(by=['weight'], ascending=False, inplace=True)"
   ]
  },
  {
   "cell_type": "code",
   "execution_count": 38,
   "metadata": {},
   "outputs": [],
   "source": [
    "data.drop_duplicates(['id'], inplace=True)"
   ]
  },
  {
   "cell_type": "code",
   "execution_count": 39,
   "metadata": {},
   "outputs": [],
   "source": [
    "data.drop(columns=['id', 'weight'], inplace=True)"
   ]
  },
  {
   "cell_type": "code",
   "execution_count": 40,
   "metadata": {},
   "outputs": [
    {
     "name": "stdout",
     "output_type": "stream",
     "text": [
      "Number of interactions: 158660\n"
     ]
    }
   ],
   "source": [
    "print('Number of interactions:', data.shape[0])"
   ]
  },
  {
   "cell_type": "code",
   "execution_count": 41,
   "metadata": {},
   "outputs": [
    {
     "data": {
      "text/html": [
       "<div>\n",
       "<style scoped>\n",
       "    .dataframe tbody tr th:only-of-type {\n",
       "        vertical-align: middle;\n",
       "    }\n",
       "\n",
       "    .dataframe tbody tr th {\n",
       "        vertical-align: top;\n",
       "    }\n",
       "\n",
       "    .dataframe thead th {\n",
       "        text-align: right;\n",
       "    }\n",
       "</style>\n",
       "<table border=\"1\" class=\"dataframe\">\n",
       "  <thead>\n",
       "    <tr style=\"text-align: right;\">\n",
       "      <th></th>\n",
       "      <th>accessionA</th>\n",
       "      <th>accessionB</th>\n",
       "      <th>proIdA</th>\n",
       "      <th>proIdB</th>\n",
       "      <th>taxonomyIdA</th>\n",
       "      <th>taxonomyIdB</th>\n",
       "      <th>interactionId</th>\n",
       "      <th>interactionIds</th>\n",
       "      <th>interactionType</th>\n",
       "      <th>detectionMethod</th>\n",
       "      <th>confidenceValue</th>\n",
       "      <th>pubmedId</th>\n",
       "    </tr>\n",
       "  </thead>\n",
       "  <tbody>\n",
       "    <tr>\n",
       "      <th>455433</th>\n",
       "      <td>uniprot:P04637</td>\n",
       "      <td>uniprot:Q00987</td>\n",
       "      <td></td>\n",
       "      <td></td>\n",
       "      <td>taxonomy:9606</td>\n",
       "      <td>taxonomy:9606</td>\n",
       "      <td>intact:EBI-7983312</td>\n",
       "      <td>intact:EBI-7983312;mint:MINT-8385459</td>\n",
       "      <td>association</td>\n",
       "      <td>anti tag coimmunoprecipitation</td>\n",
       "      <td>0.99</td>\n",
       "      <td>pubmed:22819825</td>\n",
       "    </tr>\n",
       "    <tr>\n",
       "      <th>2685</th>\n",
       "      <td>uniprot:Q9BYF1</td>\n",
       "      <td>uniprot:P0DTC2</td>\n",
       "      <td></td>\n",
       "      <td></td>\n",
       "      <td>taxonomy:9606</td>\n",
       "      <td>taxonomy:2697049</td>\n",
       "      <td>intact:EBI-25564294</td>\n",
       "      <td>intact:EBI-25564294;imex:IM-27912-17</td>\n",
       "      <td>physical association</td>\n",
       "      <td>fluorescence-activated cell sorting</td>\n",
       "      <td>0.99</td>\n",
       "      <td>pubmed:32275855</td>\n",
       "    </tr>\n",
       "    <tr>\n",
       "      <th>4019</th>\n",
       "      <td>uniprot:Q9BYF1</td>\n",
       "      <td>uniprot:P59594</td>\n",
       "      <td></td>\n",
       "      <td></td>\n",
       "      <td>taxonomy:9606</td>\n",
       "      <td>taxonomy:694009</td>\n",
       "      <td>intact:EBI-25564314</td>\n",
       "      <td>intact:EBI-25564314;imex:IM-27912-23</td>\n",
       "      <td>physical association</td>\n",
       "      <td>fluorescence-activated cell sorting</td>\n",
       "      <td>0.99</td>\n",
       "      <td>pubmed:32275855</td>\n",
       "    </tr>\n",
       "    <tr>\n",
       "      <th>8143</th>\n",
       "      <td>uniprot:P42345</td>\n",
       "      <td>uniprot:Q8N122</td>\n",
       "      <td></td>\n",
       "      <td></td>\n",
       "      <td>taxonomy:9606</td>\n",
       "      <td>taxonomy:9606</td>\n",
       "      <td>intact:EBI-2434906</td>\n",
       "      <td>intact:EBI-2434906;imex:IM-20364-22</td>\n",
       "      <td>physical association</td>\n",
       "      <td>anti tag coimmunoprecipitation</td>\n",
       "      <td>0.98</td>\n",
       "      <td>pubmed:12408816</td>\n",
       "    </tr>\n",
       "    <tr>\n",
       "      <th>510059</th>\n",
       "      <td>uniprot:P51587</td>\n",
       "      <td>uniprot:Q06609</td>\n",
       "      <td></td>\n",
       "      <td></td>\n",
       "      <td>taxonomy:9606</td>\n",
       "      <td>taxonomy:9606</td>\n",
       "      <td>intact:EBI-4399681</td>\n",
       "      <td>intact:EBI-4399681;imex:IM-16571-6</td>\n",
       "      <td>physical association</td>\n",
       "      <td>pull down</td>\n",
       "      <td>0.98</td>\n",
       "      <td>pubmed:21399666</td>\n",
       "    </tr>\n",
       "  </tbody>\n",
       "</table>\n",
       "</div>"
      ],
      "text/plain": [
       "            accessionA      accessionB proIdA proIdB    taxonomyIdA  \\\n",
       "455433  uniprot:P04637  uniprot:Q00987                taxonomy:9606   \n",
       "2685    uniprot:Q9BYF1  uniprot:P0DTC2                taxonomy:9606   \n",
       "4019    uniprot:Q9BYF1  uniprot:P59594                taxonomy:9606   \n",
       "8143    uniprot:P42345  uniprot:Q8N122                taxonomy:9606   \n",
       "510059  uniprot:P51587  uniprot:Q06609                taxonomy:9606   \n",
       "\n",
       "             taxonomyIdB        interactionId  \\\n",
       "455433     taxonomy:9606   intact:EBI-7983312   \n",
       "2685    taxonomy:2697049  intact:EBI-25564294   \n",
       "4019     taxonomy:694009  intact:EBI-25564314   \n",
       "8143       taxonomy:9606   intact:EBI-2434906   \n",
       "510059     taxonomy:9606   intact:EBI-4399681   \n",
       "\n",
       "                              interactionIds       interactionType  \\\n",
       "455433  intact:EBI-7983312;mint:MINT-8385459           association   \n",
       "2685    intact:EBI-25564294;imex:IM-27912-17  physical association   \n",
       "4019    intact:EBI-25564314;imex:IM-27912-23  physical association   \n",
       "8143     intact:EBI-2434906;imex:IM-20364-22  physical association   \n",
       "510059    intact:EBI-4399681;imex:IM-16571-6  physical association   \n",
       "\n",
       "                            detectionMethod confidenceValue         pubmedId  \n",
       "455433       anti tag coimmunoprecipitation            0.99  pubmed:22819825  \n",
       "2685    fluorescence-activated cell sorting            0.99  pubmed:32275855  \n",
       "4019    fluorescence-activated cell sorting            0.99  pubmed:32275855  \n",
       "8143         anti tag coimmunoprecipitation            0.98  pubmed:12408816  \n",
       "510059                            pull down            0.98  pubmed:21399666  "
      ]
     },
     "execution_count": 41,
     "metadata": {},
     "output_type": "execute_result"
    }
   ],
   "source": [
    "data.head()"
   ]
  },
  {
   "cell_type": "markdown",
   "metadata": {},
   "source": [
    "### Save interaction data"
   ]
  },
  {
   "cell_type": "code",
   "execution_count": 42,
   "metadata": {},
   "outputs": [],
   "source": [
    "data.to_csv(NEO4J_IMPORT / '01e-ProteinProteinInteraction.csv', index = False)"
   ]
  },
  {
   "cell_type": "code",
   "execution_count": null,
   "metadata": {},
   "outputs": [],
   "source": []
  }
 ],
 "metadata": {
  "kernelspec": {
   "display_name": "Python 3",
   "language": "python",
   "name": "python3"
  },
  "language_info": {
   "codemirror_mode": {
    "name": "ipython",
    "version": 3
   },
   "file_extension": ".py",
   "mimetype": "text/x-python",
   "name": "python",
   "nbconvert_exporter": "python",
   "pygments_lexer": "ipython3",
   "version": "3.7.9"
  }
 },
 "nbformat": 4,
 "nbformat_minor": 4
}
