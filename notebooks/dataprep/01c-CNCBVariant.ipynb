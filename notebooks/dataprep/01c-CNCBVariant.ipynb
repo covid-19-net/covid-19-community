{
 "cells": [
  {
   "cell_type": "markdown",
   "metadata": {},
   "source": [
    "# Load SARS-CoV-2 Strain Variant Data from CNCB\n",
    "**[Work in progress]**\n",
    "\n",
    "This notebook downloads and standardizes viral strain variation data from CNCB for ingestion into a Knowledge Graph.\n",
    "\n",
    "Data source: [China National Center for Bioinformation, 2019 Novel Coronavirus Resource (2019nCoVR)](https://bigd.big.ac.cn/ncov/release_genome)\n",
    "\n",
    "Author: Peter Rose (pwrose@ucsd.edu)"
   ]
  },
  {
   "cell_type": "code",
   "execution_count": 1,
   "metadata": {},
   "outputs": [],
   "source": [
    "import os\n",
    "import shutil\n",
    "import glob\n",
    "import ftplib\n",
    "import re\n",
    "import dateutil\n",
    "import time\n",
    "import pandas as pd\n",
    "from pathlib import Path"
   ]
  },
  {
   "cell_type": "code",
   "execution_count": 2,
   "metadata": {},
   "outputs": [],
   "source": [
    "pd.options.display.max_rows = None  # display all rows\n",
    "pd.options.display.max_columns = None  # display all columsns"
   ]
  },
  {
   "cell_type": "code",
   "execution_count": 3,
   "metadata": {},
   "outputs": [
    {
     "name": "stdout",
     "output_type": "stream",
     "text": [
      "/Users/peter/Library/Application Support/com.Neo4j.Relate/data/dbmss/dbms-8bf637fc-0d20-4d9f-9c6f-f7e72e92a4da/import\n"
     ]
    }
   ],
   "source": [
    "# Path will take care of handling operating system differences.\n",
    "NEO4J_IMPORT = Path(os.getenv('NEO4J_IMPORT'))\n",
    "print(NEO4J_IMPORT)"
   ]
  },
  {
   "cell_type": "code",
   "execution_count": 4,
   "metadata": {},
   "outputs": [],
   "source": [
    "# Create a directory to cache variation data that could not be parsed\n",
    "CACHE_FAILED = Path(NEO4J_IMPORT / 'cache/failed/cncb')\n",
    "CACHE_FAILED.mkdir(parents=True, exist_ok=True)"
   ]
  },
  {
   "cell_type": "code",
   "execution_count": 5,
   "metadata": {},
   "outputs": [],
   "source": [
    "# Create a directory to cache raw variation data gff3 files\n",
    "CACHE_RAW_CNCB = Path(NEO4J_IMPORT / 'cache/raw/cncb')\n",
    "CACHE_RAW_CNCB.mkdir(parents=True, exist_ok=True)"
   ]
  },
  {
   "cell_type": "code",
   "execution_count": 6,
   "metadata": {},
   "outputs": [],
   "source": [
    "# Create a directory to cache processed variation data csv files\n",
    "CACHE_PROCESSED_CNCB = Path(NEO4J_IMPORT / 'cache/processed/cncb')\n",
    "CACHE_PROCESSED_CNCB.mkdir(parents=True, exist_ok=True)"
   ]
  },
  {
   "cell_type": "markdown",
   "metadata": {},
   "source": [
    "## Download SARS-CoV-2 Variation Data"
   ]
  },
  {
   "cell_type": "markdown",
   "metadata": {},
   "source": [
    "Create a list of local and remote directories"
   ]
  },
  {
   "cell_type": "code",
   "execution_count": 7,
   "metadata": {},
   "outputs": [],
   "source": [
    "# directories on the FTP server\n",
    "remote_dirs = []\n",
    "# local directories to cache raw data files\n",
    "raw_dirs = []\n",
    "# local directories to cache processed data files\n",
    "proc_dirs = []\n",
    "\n",
    "# subdirectories are named: a ... n (note, this may change)\n",
    "subdirs = [chr(x) for x in range(ord('a'), ord('n') + 1)]"
   ]
  },
  {
   "cell_type": "markdown",
   "metadata": {},
   "source": [
    "Setup local cache directories if they don't exit"
   ]
  },
  {
   "cell_type": "code",
   "execution_count": 8,
   "metadata": {},
   "outputs": [],
   "source": [
    "for subdir in raw_dirs:\n",
    "    subdir.mkdir(exist_ok=True)\n",
    "for subdir in proc_dirs:   \n",
    "    subdir.mkdir(exist_ok=True)"
   ]
  },
  {
   "cell_type": "code",
   "execution_count": 9,
   "metadata": {},
   "outputs": [],
   "source": [
    "t1 = time.time()"
   ]
  },
  {
   "cell_type": "code",
   "execution_count": 10,
   "metadata": {},
   "outputs": [],
   "source": [
    "def parse_strain_id(filename):\n",
    "    # parse strain id from file name, e.g. ..cache/raw/cncb/a/2019-nCoV_EPI_ISL_484968_variants.gff3 -> EPI_ISL_484968\n",
    "    return Path(filename).stem[10:-9]"
   ]
  },
  {
   "cell_type": "code",
   "execution_count": 11,
   "metadata": {},
   "outputs": [],
   "source": [
    "def parse_base_path(filename):\n",
    "    # parse base path from file name, e.g. ..cache/raw/cncb/n/2019-nCoV_EPI_ISL_484968_variants.gff3 -> /n/2019-nCoV_EPI_ISL_484968_variants.\n",
    "    return re.split('cncb', filename)[1][1:-5]"
   ]
  },
  {
   "cell_type": "markdown",
   "metadata": {},
   "source": [
    "Create a dataframe of raw files and strain identifiers"
   ]
  },
  {
   "cell_type": "code",
   "execution_count": 12,
   "metadata": {},
   "outputs": [
    {
     "name": "stdout",
     "output_type": "stream",
     "text": [
      "Cached raw gff3 files: 6003\n"
     ]
    }
   ],
   "source": [
    "raw_files = glob.glob(f'{CACHE_RAW_CNCB}/*/*.gff3')\n",
    "raw_files_df = pd.DataFrame(raw_files, columns=['raw_filename'])\n",
    "raw_files_df['id'] = raw_files_df['raw_filename'].apply(parse_strain_id)\n",
    "print(\"Cached raw gff3 files:\", raw_files_df.shape[0])"
   ]
  },
  {
   "cell_type": "code",
   "execution_count": 13,
   "metadata": {},
   "outputs": [
    {
     "name": "stdout",
     "output_type": "stream",
     "text": [
      "Time to create list of raw files: 0.25726890563964844\n"
     ]
    }
   ],
   "source": [
    "t2 = time.time()\n",
    "print(\"Time to create list of raw files:\", t2-t1)"
   ]
  },
  {
   "cell_type": "markdown",
   "metadata": {},
   "source": [
    "Create a dataframe of processed files and strain identifiers"
   ]
  },
  {
   "cell_type": "code",
   "execution_count": 14,
   "metadata": {},
   "outputs": [
    {
     "name": "stdout",
     "output_type": "stream",
     "text": [
      "Cached processed csv files: 5993\n"
     ]
    }
   ],
   "source": [
    "proc_files = glob.glob(f'{CACHE_PROCESSED_CNCB}/*/*.csv')\n",
    "proc_files_df = pd.DataFrame(proc_files, columns=['proc_filename'])\n",
    "proc_files_df['id'] = proc_files_df['proc_filename'].apply(parse_strain_id)\n",
    "print(\"Cached processed csv files:\", proc_files_df.shape[0])"
   ]
  },
  {
   "cell_type": "code",
   "execution_count": 15,
   "metadata": {},
   "outputs": [
    {
     "name": "stdout",
     "output_type": "stream",
     "text": [
      "Time to create list of processed files: 0.22624683380126953\n"
     ]
    }
   ],
   "source": [
    "t3 = time.time()\n",
    "print(\"Time to create list of processed files:\", t3-t2)"
   ]
  },
  {
   "cell_type": "code",
   "execution_count": 16,
   "metadata": {},
   "outputs": [],
   "source": [
    "unproc_files_df = pd.merge(raw_files_df, proc_files_df, on='id', how='outer', indicator=True).query('_merge==\"left_only\"')"
   ]
  },
  {
   "cell_type": "code",
   "execution_count": 17,
   "metadata": {},
   "outputs": [
    {
     "name": "stdout",
     "output_type": "stream",
     "text": [
      "Files to be processed: 10\n"
     ]
    }
   ],
   "source": [
    "print(\"Files to be processed:\", unproc_files_df.shape[0])"
   ]
  },
  {
   "cell_type": "code",
   "execution_count": 18,
   "metadata": {},
   "outputs": [],
   "source": [
    "names = ['taxon1', 'variantType', 'name', 'start', 'end','x1', 'x2', 'x3','taxon2', 'x4', 'ref', 'alt', 'vepAnnotation']"
   ]
  },
  {
   "cell_type": "code",
   "execution_count": 19,
   "metadata": {},
   "outputs": [],
   "source": [
    "def split_vep(record):\n",
    "    # split variant effect predictor record\n",
    "    items = record.split(',')\n",
    "    num_items = len(items)\n",
    "    # example: ['intergenic_variant']\n",
    "    if num_items == 1:\n",
    "        return items[0] + ',,,'\n",
    "    # example: ['missense_variant', 'QHD43415.1:p.1036D>E', 'gene-orf1ab:c.3108gaC>gaA']\n",
    "    elif num_items == 3:\n",
    "        return items[0] + ',' + items[1] + ',' + items[2] + ','\n",
    "    # example: ['upstream_gene_variant', 'DISTANCE=25', 'QHD43415.1', 'gene-orf1ab']     \n",
    "    elif num_items == 4:\n",
    "        return items[0] + ',' +  items[2] + ',' + items[3] + ',' + items[1]\n",
    "    else:\n",
    "        return ',,,'"
   ]
  },
  {
   "cell_type": "code",
   "execution_count": 20,
   "metadata": {},
   "outputs": [],
   "source": [
    "def parse_gff3(raw_file):\n",
    "    filename =  parse_base_path(raw_file)  + '.csv'\n",
    "    #print('parsing:', raw_file, filename)\n",
    "    gff3 = pd.read_csv(raw_file, header=None, comment='#', sep='[\\t;]', engine='python', names=names)\n",
    "    try:\n",
    "        gff3['vepAnnotation'] = gff3['vepAnnotation'].str.replace('VEP=','')\n",
    "        gff3['vepAnnotation'] = gff3['vepAnnotation'].apply(split_vep)\n",
    "        gff3[['variantConsequence','proteinVariant','geneVariant', 'distance']] = gff3['vepAnnotation'].str.split(',', expand=True)\n",
    "        gff3['geneVariant'] = gff3['geneVariant'].str.replace('gene-','')\n",
    "        gff3['distance'] = gff3['distance'].str.replace('DISTANCE=', '')\n",
    "        gff3['ref'] = gff3['ref'].str.replace('REF=','')\n",
    "        gff3['alt'] = gff3['alt'].str.replace('ALT=','')\n",
    "        gff3 = gff3[['name', 'variantType', 'start', 'end', 'ref', 'alt', 'variantConsequence', 'proteinVariant', 'geneVariant', 'distance']]\n",
    "        gff3['accession'] = parse_strain_id(raw_file)\n",
    "\n",
    "        gff3.to_csv(CACHE_PROCESSED_CNCB / filename, index=False)\n",
    "        return True\n",
    "    except:\n",
    "        # skip over files that have no mutations\n",
    "        valid = False\n",
    "        with open(raw_file) as fp: \n",
    "            while True: \n",
    "                line = fp.readline()\n",
    "                if not line:\n",
    "                    break\n",
    "                if line.startswith('##There is no mutation found'):\n",
    "                    print('No mutations in   :', filename)\n",
    "                    valid = True\n",
    "                    break\n",
    "   \n",
    "        if not valid:\n",
    "            print('Parsing failed for:', filename)\n",
    "            # cache files that failed to be parsed for manual inspection\n",
    "            shutil.copy(raw_file, CACHE_FAILED)\n",
    "            return False\n",
    "        else:\n",
    "            return True"
   ]
  },
  {
   "cell_type": "code",
   "execution_count": 21,
   "metadata": {},
   "outputs": [
    {
     "name": "stdout",
     "output_type": "stream",
     "text": [
      "Parsing failed for: a/2019-nCoV_EPI_ISL_424491_variants.csv\n",
      "No mutations in   : a/2019-nCoV_EPI_ISL_424471_variants.csv\n",
      "Parsing failed for: a/2019-nCoV_EPI_ISL_418635_variants.csv\n",
      "No mutations in   : a/2019-nCoV_EPI_ISL_424538_variants.csv\n",
      "No mutations in   : a/2019-nCoV_EPI_ISL_417602_variants.csv\n",
      "Parsing failed for: a/2019-nCoV_EPI_ISL_423003_variants.csv\n",
      "Parsing failed for: a/2019-nCoV_EPI_ISL_420580_variants.csv\n",
      "Parsing failed for: a/2019-nCoV_EPI_ISL_415583_variants.csv\n",
      "No mutations in   : a/2019-nCoV_EPI_ISL_417591_variants.csv\n",
      "Parsing failed for: a/2019-nCoV_EPI_ISL_420534_variants.csv\n"
     ]
    }
   ],
   "source": [
    "status = raw_files_df['raw_filename'].apply(parse_gff3)"
   ]
  },
  {
   "cell_type": "code",
   "execution_count": 22,
   "metadata": {},
   "outputs": [
    {
     "name": "stdout",
     "output_type": "stream",
     "text": [
      "Time to preprocess new files: 66.72967624664307\n"
     ]
    }
   ],
   "source": [
    "t4 = time.time()\n",
    "print(\"Time to preprocess new files:\", t4-t3)"
   ]
  },
  {
   "cell_type": "markdown",
   "metadata": {},
   "source": [
    "#### Standardize node property names (CURIEs and URIs)"
   ]
  },
  {
   "cell_type": "code",
   "execution_count": 23,
   "metadata": {},
   "outputs": [],
   "source": [
    "# https://registry.identifiers.org/registry/insdc\n",
    "insdc_pattern = re.compile('^([A-Z]\\d{5}|[A-Z]{2}\\d{6}|[A-Z]{4}\\d{8}|[A-J][A-Z]{2}\\d{5})(\\.\\d+)?$')\n",
    "# https://registry.identifiers.org/registry/refseq\n",
    "refseq_pattern = re.compile('^(((AC|AP|NC|NG|NM|NP|NR|NT|NW|XM|XP|XR|YP|ZP)_\\d+)|(NZ\\_[A-Z]{2,4}\\d+))(\\.\\d+)?$')"
   ]
  },
  {
   "cell_type": "code",
   "execution_count": 24,
   "metadata": {},
   "outputs": [],
   "source": [
    "def assign_curie(id):\n",
    "    id = id.strip()\n",
    "    # remove underscore to enable CURIE matching of NCBI reference sequences NC_...\n",
    "    #id = id.replace('NC_', 'NC') \n",
    "    if len(id) > 0:\n",
    "        if id.startswith('EPI'):\n",
    "            return 'https://www.gisaid.org/' + id\n",
    "        elif refseq_pattern.match(id) != None:\n",
    "            return 'refseq:' + id\n",
    "        elif insdc_pattern.match(id) != None:\n",
    "            return 'insdc:' + id\n",
    "        else:\n",
    "            # TODO are URIs available for these cases?\n",
    "            return id\n",
    "    else:\n",
    "        return id"
   ]
  },
  {
   "cell_type": "code",
   "execution_count": 25,
   "metadata": {},
   "outputs": [
    {
     "name": "stdout",
     "output_type": "stream",
     "text": [
      "Number of cached files loaded: 5993\n"
     ]
    }
   ],
   "source": [
    "# use all processed data files\n",
    "path = str(CACHE_PROCESSED_CNCB / '*/*.csv')\n",
    "filenames = glob.glob(path)\n",
    "\n",
    "variations = pd.concat((pd.read_csv(f, index_col=None, header=0) for f in filenames), ignore_index=True)\n",
    "variations.fillna('', inplace=True)\n",
    "\n",
    "print('Number of cached files loaded:',len(filenames))"
   ]
  },
  {
   "cell_type": "code",
   "execution_count": 26,
   "metadata": {},
   "outputs": [
    {
     "name": "stdout",
     "output_type": "stream",
     "text": [
      "Time to load cached files: 20.383455991744995\n"
     ]
    }
   ],
   "source": [
    "t5 = time.time()\n",
    "print('Time to load cached files:', t5-t4)"
   ]
  },
  {
   "cell_type": "markdown",
   "metadata": {},
   "source": [
    "List of variant types and consequences:\n",
    "\n",
    "https://uswest.ensembl.org/info/genome/variation/prediction/classification.html\n",
    "\n",
    "https://uswest.ensembl.org/info/genome/variation/prediction/predicted_data.html#consequences"
   ]
  },
  {
   "cell_type": "markdown",
   "metadata": {},
   "source": [
    "#### Extract protein position and protein id from proteinVariant string\n",
    "\n",
    "Example: QHD43415.1:p.5828P>L\n",
    "\n",
    "proteinPosition: 5828\n",
    "proteinId: QHD43415"
   ]
  },
  {
   "cell_type": "code",
   "execution_count": 27,
   "metadata": {},
   "outputs": [],
   "source": [
    "position_pattern = re.compile(':p\\.(.*?)[A-Z|\\-]+')"
   ]
  },
  {
   "cell_type": "code",
   "execution_count": 28,
   "metadata": {},
   "outputs": [],
   "source": [
    "def extract_protein_position(s):\n",
    "    if s == '':\n",
    "        return s\n",
    "    else:\n",
    "        groups = position_pattern.search(s)\n",
    "        if groups == None:\n",
    "            return ''\n",
    "        else:\n",
    "            return groups.group(1)"
   ]
  },
  {
   "cell_type": "code",
   "execution_count": 29,
   "metadata": {},
   "outputs": [],
   "source": [
    "variations['proteinPosition'] = variations['proteinVariant'].apply(extract_protein_position)"
   ]
  },
  {
   "cell_type": "code",
   "execution_count": 30,
   "metadata": {},
   "outputs": [],
   "source": [
    "variations['proteinAccession'] = variations['proteinVariant'].apply(lambda s: s.split('.')[0] if '.' in s else '')"
   ]
  },
  {
   "cell_type": "code",
   "execution_count": 31,
   "metadata": {},
   "outputs": [
    {
     "data": {
      "text/plain": [
       "array(['', 'QHD43415', 'QHD43416', 'QHD43417', 'QHI42199', 'QHD43418',\n",
       "       'QHD43419', 'QHD43423', 'QHD43421', 'QHD43422', 'QHD43420'],\n",
       "      dtype=object)"
      ]
     },
     "execution_count": 31,
     "metadata": {},
     "output_type": "execute_result"
    }
   ],
   "source": [
    "variations['proteinAccession'].unique()"
   ]
  },
  {
   "cell_type": "markdown",
   "metadata": {},
   "source": [
    "#### Assign SARS-CoV-2 taxonomy id"
   ]
  },
  {
   "cell_type": "code",
   "execution_count": 32,
   "metadata": {},
   "outputs": [],
   "source": [
    "variations['taxonomyId'] = 'taxonomy:2697049'"
   ]
  },
  {
   "cell_type": "markdown",
   "metadata": {},
   "source": [
    "#### Assign Reference genome\n",
    "\n",
    "The first SARS-CoV-2 genome sequence is the reference for the variant annotation below.\n",
    "\n",
    "[Severe acute respiratory syndrome coronavirus 2 isolate Wuhan-Hu-1](https://www.ncbi.nlm.nih.gov/nuccore/MN908947)"
   ]
  },
  {
   "cell_type": "code",
   "execution_count": 33,
   "metadata": {},
   "outputs": [],
   "source": [
    "variations['referenceGenome'] = 'insdc:MN908947' # same as NCBI reference sequence NC_045512"
   ]
  },
  {
   "cell_type": "code",
   "execution_count": 34,
   "metadata": {},
   "outputs": [],
   "source": [
    "variations['proteinAccession'] = variations['proteinAccession'].apply(lambda s: 'ncbiprotein:' + s if s != '' else s)"
   ]
  },
  {
   "cell_type": "code",
   "execution_count": 35,
   "metadata": {},
   "outputs": [],
   "source": [
    "variations['accession'] = variations['accession'].apply(assign_curie)"
   ]
  },
  {
   "cell_type": "markdown",
   "metadata": {},
   "source": [
    "Fix a misspelled terms"
   ]
  },
  {
   "cell_type": "code",
   "execution_count": 36,
   "metadata": {},
   "outputs": [],
   "source": [
    "variations['variantConsequence'] = variations['variantConsequence'].replace('intergenic_variant||intergenic_variant', 'intergenic_variant')"
   ]
  },
  {
   "cell_type": "code",
   "execution_count": 37,
   "metadata": {},
   "outputs": [],
   "source": [
    "variations['variantConsequence'] = variations['variantConsequence'].replace('intergenic_variant||intergenic_varia', 'intergenic_variant')"
   ]
  },
  {
   "cell_type": "code",
   "execution_count": 38,
   "metadata": {},
   "outputs": [
    {
     "name": "stdout",
     "output_type": "stream",
     "text": [
      "variantType: ['Deletion' 'SNP' 'Insertion' 'Indel']\n"
     ]
    }
   ],
   "source": [
    "print('variantType:', variations['variantType'].unique())"
   ]
  },
  {
   "cell_type": "code",
   "execution_count": 39,
   "metadata": {},
   "outputs": [
    {
     "name": "stdout",
     "output_type": "stream",
     "text": [
      "variantConsequence: ['intergenic_variant' 'upstream_gene_variant' 'missense_variant'\n",
      " 'synonymous_variant' 'inframe_deletion' 'downstream_gene_variant'\n",
      " 'coding_sequence_variant' 'stop_gained' 'frameshift_variant'\n",
      " 'protein_altering_variant' 'inframe_insertion' 'stop_lost' 'start_lost']\n"
     ]
    }
   ],
   "source": [
    "print(\"variantConsequence:\", variations['variantConsequence'].unique())"
   ]
  },
  {
   "cell_type": "code",
   "execution_count": 40,
   "metadata": {},
   "outputs": [],
   "source": [
    "variations['id'] = variations['referenceGenome'] + ':' + variations['start'].map(str) + '-' + variations['end'].map(str) + '-' + variations['ref'] + '-' + variations['alt']"
   ]
  },
  {
   "cell_type": "code",
   "execution_count": 41,
   "metadata": {},
   "outputs": [
    {
     "data": {
      "text/html": [
       "<div>\n",
       "<style scoped>\n",
       "    .dataframe tbody tr th:only-of-type {\n",
       "        vertical-align: middle;\n",
       "    }\n",
       "\n",
       "    .dataframe tbody tr th {\n",
       "        vertical-align: top;\n",
       "    }\n",
       "\n",
       "    .dataframe thead th {\n",
       "        text-align: right;\n",
       "    }\n",
       "</style>\n",
       "<table border=\"1\" class=\"dataframe\">\n",
       "  <thead>\n",
       "    <tr style=\"text-align: right;\">\n",
       "      <th></th>\n",
       "      <th>name</th>\n",
       "      <th>variantType</th>\n",
       "      <th>start</th>\n",
       "      <th>end</th>\n",
       "      <th>ref</th>\n",
       "      <th>alt</th>\n",
       "      <th>variantConsequence</th>\n",
       "      <th>proteinVariant</th>\n",
       "      <th>geneVariant</th>\n",
       "      <th>distance</th>\n",
       "      <th>accession</th>\n",
       "      <th>proteinPosition</th>\n",
       "      <th>proteinAccession</th>\n",
       "      <th>taxonomyId</th>\n",
       "      <th>referenceGenome</th>\n",
       "      <th>id</th>\n",
       "    </tr>\n",
       "  </thead>\n",
       "  <tbody>\n",
       "    <tr>\n",
       "      <th>0</th>\n",
       "      <td>hCoV-19/USA/WA-UW-1446/2020</td>\n",
       "      <td>Deletion</td>\n",
       "      <td>1</td>\n",
       "      <td>7</td>\n",
       "      <td>AATTAAAG</td>\n",
       "      <td>-</td>\n",
       "      <td>intergenic_variant</td>\n",
       "      <td></td>\n",
       "      <td></td>\n",
       "      <td></td>\n",
       "      <td>https://www.gisaid.org/EPI_ISL_423010</td>\n",
       "      <td></td>\n",
       "      <td></td>\n",
       "      <td>taxonomy:2697049</td>\n",
       "      <td>insdc:MN908947</td>\n",
       "      <td>insdc:MN908947:1-7-AATTAAAG--</td>\n",
       "    </tr>\n",
       "    <tr>\n",
       "      <th>1</th>\n",
       "      <td>hCoV-19/USA/WA-UW-1446/2020</td>\n",
       "      <td>SNP</td>\n",
       "      <td>34</td>\n",
       "      <td>34</td>\n",
       "      <td>A</td>\n",
       "      <td>T</td>\n",
       "      <td>intergenic_variant</td>\n",
       "      <td></td>\n",
       "      <td></td>\n",
       "      <td></td>\n",
       "      <td>https://www.gisaid.org/EPI_ISL_423010</td>\n",
       "      <td></td>\n",
       "      <td></td>\n",
       "      <td>taxonomy:2697049</td>\n",
       "      <td>insdc:MN908947</td>\n",
       "      <td>insdc:MN908947:34-34-A-T</td>\n",
       "    </tr>\n",
       "    <tr>\n",
       "      <th>2</th>\n",
       "      <td>hCoV-19/USA/WA-UW-1446/2020</td>\n",
       "      <td>SNP</td>\n",
       "      <td>35</td>\n",
       "      <td>35</td>\n",
       "      <td>A</td>\n",
       "      <td>T</td>\n",
       "      <td>intergenic_variant</td>\n",
       "      <td></td>\n",
       "      <td></td>\n",
       "      <td></td>\n",
       "      <td>https://www.gisaid.org/EPI_ISL_423010</td>\n",
       "      <td></td>\n",
       "      <td></td>\n",
       "      <td>taxonomy:2697049</td>\n",
       "      <td>insdc:MN908947</td>\n",
       "      <td>insdc:MN908947:35-35-A-T</td>\n",
       "    </tr>\n",
       "    <tr>\n",
       "      <th>3</th>\n",
       "      <td>hCoV-19/USA/WA-UW-1446/2020</td>\n",
       "      <td>SNP</td>\n",
       "      <td>36</td>\n",
       "      <td>36</td>\n",
       "      <td>C</td>\n",
       "      <td>T</td>\n",
       "      <td>intergenic_variant</td>\n",
       "      <td></td>\n",
       "      <td></td>\n",
       "      <td></td>\n",
       "      <td>https://www.gisaid.org/EPI_ISL_423010</td>\n",
       "      <td></td>\n",
       "      <td></td>\n",
       "      <td>taxonomy:2697049</td>\n",
       "      <td>insdc:MN908947</td>\n",
       "      <td>insdc:MN908947:36-36-C-T</td>\n",
       "    </tr>\n",
       "    <tr>\n",
       "      <th>4</th>\n",
       "      <td>hCoV-19/USA/WA-UW-1446/2020</td>\n",
       "      <td>SNP</td>\n",
       "      <td>37</td>\n",
       "      <td>37</td>\n",
       "      <td>C</td>\n",
       "      <td>A</td>\n",
       "      <td>intergenic_variant</td>\n",
       "      <td></td>\n",
       "      <td></td>\n",
       "      <td></td>\n",
       "      <td>https://www.gisaid.org/EPI_ISL_423010</td>\n",
       "      <td></td>\n",
       "      <td></td>\n",
       "      <td>taxonomy:2697049</td>\n",
       "      <td>insdc:MN908947</td>\n",
       "      <td>insdc:MN908947:37-37-C-A</td>\n",
       "    </tr>\n",
       "  </tbody>\n",
       "</table>\n",
       "</div>"
      ],
      "text/plain": [
       "                          name variantType  start  end       ref alt  \\\n",
       "0  hCoV-19/USA/WA-UW-1446/2020    Deletion      1    7  AATTAAAG   -   \n",
       "1  hCoV-19/USA/WA-UW-1446/2020         SNP     34   34         A   T   \n",
       "2  hCoV-19/USA/WA-UW-1446/2020         SNP     35   35         A   T   \n",
       "3  hCoV-19/USA/WA-UW-1446/2020         SNP     36   36         C   T   \n",
       "4  hCoV-19/USA/WA-UW-1446/2020         SNP     37   37         C   A   \n",
       "\n",
       "   variantConsequence proteinVariant geneVariant distance  \\\n",
       "0  intergenic_variant                                       \n",
       "1  intergenic_variant                                       \n",
       "2  intergenic_variant                                       \n",
       "3  intergenic_variant                                       \n",
       "4  intergenic_variant                                       \n",
       "\n",
       "                               accession proteinPosition proteinAccession  \\\n",
       "0  https://www.gisaid.org/EPI_ISL_423010                                    \n",
       "1  https://www.gisaid.org/EPI_ISL_423010                                    \n",
       "2  https://www.gisaid.org/EPI_ISL_423010                                    \n",
       "3  https://www.gisaid.org/EPI_ISL_423010                                    \n",
       "4  https://www.gisaid.org/EPI_ISL_423010                                    \n",
       "\n",
       "         taxonomyId referenceGenome                             id  \n",
       "0  taxonomy:2697049  insdc:MN908947  insdc:MN908947:1-7-AATTAAAG--  \n",
       "1  taxonomy:2697049  insdc:MN908947       insdc:MN908947:34-34-A-T  \n",
       "2  taxonomy:2697049  insdc:MN908947       insdc:MN908947:35-35-A-T  \n",
       "3  taxonomy:2697049  insdc:MN908947       insdc:MN908947:36-36-C-T  \n",
       "4  taxonomy:2697049  insdc:MN908947       insdc:MN908947:37-37-C-A  "
      ]
     },
     "execution_count": 41,
     "metadata": {},
     "output_type": "execute_result"
    }
   ],
   "source": [
    "variations.head()"
   ]
  },
  {
   "cell_type": "code",
   "execution_count": 42,
   "metadata": {},
   "outputs": [
    {
     "name": "stdout",
     "output_type": "stream",
     "text": [
      "Number of variants: 86534\n"
     ]
    }
   ],
   "source": [
    "print('Number of variants:', variations.shape[0])"
   ]
  },
  {
   "cell_type": "code",
   "execution_count": 43,
   "metadata": {},
   "outputs": [],
   "source": [
    "variations.to_csv(NEO4J_IMPORT / \"01c-CNCBStrainVariant.csv\", index=False)"
   ]
  },
  {
   "cell_type": "code",
   "execution_count": 44,
   "metadata": {},
   "outputs": [
    {
     "name": "stdout",
     "output_type": "stream",
     "text": [
      "Time to parse variants: 1.3663761615753174\n"
     ]
    }
   ],
   "source": [
    "t6 = time.time()\n",
    "print('Time to parse variants:', t6-t5)"
   ]
  },
  {
   "cell_type": "code",
   "execution_count": 45,
   "metadata": {},
   "outputs": [],
   "source": [
    "strains = pd.read_csv(NEO4J_IMPORT / \"01c-CNCBStrainPre.csv\", dtype=str)"
   ]
  },
  {
   "cell_type": "code",
   "execution_count": 46,
   "metadata": {},
   "outputs": [
    {
     "data": {
      "text/plain": [
       "(1905434, 15)"
      ]
     },
     "execution_count": 46,
     "metadata": {},
     "output_type": "execute_result"
    }
   ],
   "source": [
    "strains.shape"
   ]
  },
  {
   "cell_type": "code",
   "execution_count": 47,
   "metadata": {},
   "outputs": [
    {
     "data": {
      "text/html": [
       "<div>\n",
       "<style scoped>\n",
       "    .dataframe tbody tr th:only-of-type {\n",
       "        vertical-align: middle;\n",
       "    }\n",
       "\n",
       "    .dataframe tbody tr th {\n",
       "        vertical-align: top;\n",
       "    }\n",
       "\n",
       "    .dataframe thead th {\n",
       "        text-align: right;\n",
       "    }\n",
       "</style>\n",
       "<table border=\"1\" class=\"dataframe\">\n",
       "  <thead>\n",
       "    <tr style=\"text-align: right;\">\n",
       "      <th></th>\n",
       "      <th>name</th>\n",
       "      <th>accession</th>\n",
       "      <th>accessions</th>\n",
       "      <th>gisaidId</th>\n",
       "      <th>source</th>\n",
       "      <th>taxonomyId</th>\n",
       "      <th>hostTaxonomyId</th>\n",
       "      <th>lineage</th>\n",
       "      <th>sequenceLength</th>\n",
       "      <th>sequenceQuality</th>\n",
       "      <th>qualityAssessment</th>\n",
       "      <th>collectionDate</th>\n",
       "      <th>location</th>\n",
       "      <th>origLocation</th>\n",
       "      <th>originatingLab</th>\n",
       "    </tr>\n",
       "  </thead>\n",
       "  <tbody>\n",
       "    <tr>\n",
       "      <th>0</th>\n",
       "      <td>BetaCoV/Wuhan/HBCDC-HB-01/2019</td>\n",
       "      <td>NMDC60013088-01</td>\n",
       "      <td>NMDC60013088-01;https://www.gisaid.org/EPI_ISL...</td>\n",
       "      <td>https://www.gisaid.org/EPI_ISL_402132</td>\n",
       "      <td>NMDC</td>\n",
       "      <td>taxonomy:2697049</td>\n",
       "      <td>taxonomy:9606</td>\n",
       "      <td>B</td>\n",
       "      <td>29848</td>\n",
       "      <td>High</td>\n",
       "      <td>0/0/-/-/-</td>\n",
       "      <td>2019-12-30</td>\n",
       "      <td>China / Hubei</td>\n",
       "      <td>China,Hubei</td>\n",
       "      <td>Hubei Provincial Center for Disease Control an...</td>\n",
       "    </tr>\n",
       "    <tr>\n",
       "      <th>1</th>\n",
       "      <td>hCoV-19/Thailand/74/2020</td>\n",
       "      <td>https://www.gisaid.org/EPI_ISL_403963</td>\n",
       "      <td>https://www.gisaid.org/EPI_ISL_403963</td>\n",
       "      <td>https://www.gisaid.org/EPI_ISL_403963</td>\n",
       "      <td>GISAID</td>\n",
       "      <td>taxonomy:2697049</td>\n",
       "      <td>taxonomy:9606</td>\n",
       "      <td>B</td>\n",
       "      <td>29859</td>\n",
       "      <td>High</td>\n",
       "      <td>0/0/-/-/-</td>\n",
       "      <td>2020-01-13</td>\n",
       "      <td>Thailand/ Nonthaburi Province</td>\n",
       "      <td>Thailand,Nonthaburi Province</td>\n",
       "      <td>Department of Medical Sciences, Ministry of Pu...</td>\n",
       "    </tr>\n",
       "    <tr>\n",
       "      <th>2</th>\n",
       "      <td>hCoV-19/Thailand/61/2020</td>\n",
       "      <td>https://www.gisaid.org/EPI_ISL_403962</td>\n",
       "      <td>https://www.gisaid.org/EPI_ISL_403962</td>\n",
       "      <td>https://www.gisaid.org/EPI_ISL_403962</td>\n",
       "      <td>GISAID</td>\n",
       "      <td>taxonomy:2697049</td>\n",
       "      <td>taxonomy:9606</td>\n",
       "      <td>B</td>\n",
       "      <td>29848</td>\n",
       "      <td>High</td>\n",
       "      <td>0/0/-/-/-</td>\n",
       "      <td>2020-01-08</td>\n",
       "      <td>Thailand/ Nonthaburi Province</td>\n",
       "      <td>Thailand,Nonthaburi Province</td>\n",
       "      <td>Department of Medical Sciences, Ministry of Pu...</td>\n",
       "    </tr>\n",
       "    <tr>\n",
       "      <th>3</th>\n",
       "      <td>BetaCoV/Wuhan/IVDC-HB-04/2020</td>\n",
       "      <td>NMDC60013085-01</td>\n",
       "      <td>NMDC60013085-01;https://www.gisaid.org/EPI_ISL...</td>\n",
       "      <td>https://www.gisaid.org/EPI_ISL_402120</td>\n",
       "      <td>NMDC</td>\n",
       "      <td>taxonomy:2697049</td>\n",
       "      <td>taxonomy:9606</td>\n",
       "      <td>B</td>\n",
       "      <td>29896</td>\n",
       "      <td>High</td>\n",
       "      <td>0/0/-/-/-</td>\n",
       "      <td>2020-01-01</td>\n",
       "      <td>China / Hubei / Wuhan</td>\n",
       "      <td>China,Hubei,Wuhan</td>\n",
       "      <td>National Institute for Viral Disease Control a...</td>\n",
       "    </tr>\n",
       "    <tr>\n",
       "      <th>4</th>\n",
       "      <td>BetaCoV/Wuhan/IVDC-HB-01/2019</td>\n",
       "      <td>NMDC60013084-01</td>\n",
       "      <td>NMDC60013084-01;https://www.gisaid.org/EPI_ISL...</td>\n",
       "      <td>https://www.gisaid.org/EPI_ISL_402119</td>\n",
       "      <td>NMDC</td>\n",
       "      <td>taxonomy:2697049</td>\n",
       "      <td>taxonomy:9606</td>\n",
       "      <td>B</td>\n",
       "      <td>29891</td>\n",
       "      <td>High</td>\n",
       "      <td>0/0/-/-/-</td>\n",
       "      <td>2019-12-30</td>\n",
       "      <td>China / Hubei / Wuhan</td>\n",
       "      <td>China,Hubei,Wuhan</td>\n",
       "      <td>National Institute for Viral Disease Control a...</td>\n",
       "    </tr>\n",
       "  </tbody>\n",
       "</table>\n",
       "</div>"
      ],
      "text/plain": [
       "                             name                              accession  \\\n",
       "0  BetaCoV/Wuhan/HBCDC-HB-01/2019                        NMDC60013088-01   \n",
       "1        hCoV-19/Thailand/74/2020  https://www.gisaid.org/EPI_ISL_403963   \n",
       "2        hCoV-19/Thailand/61/2020  https://www.gisaid.org/EPI_ISL_403962   \n",
       "3   BetaCoV/Wuhan/IVDC-HB-04/2020                        NMDC60013085-01   \n",
       "4   BetaCoV/Wuhan/IVDC-HB-01/2019                        NMDC60013084-01   \n",
       "\n",
       "                                          accessions  \\\n",
       "0  NMDC60013088-01;https://www.gisaid.org/EPI_ISL...   \n",
       "1              https://www.gisaid.org/EPI_ISL_403963   \n",
       "2              https://www.gisaid.org/EPI_ISL_403962   \n",
       "3  NMDC60013085-01;https://www.gisaid.org/EPI_ISL...   \n",
       "4  NMDC60013084-01;https://www.gisaid.org/EPI_ISL...   \n",
       "\n",
       "                                gisaidId  source        taxonomyId  \\\n",
       "0  https://www.gisaid.org/EPI_ISL_402132    NMDC  taxonomy:2697049   \n",
       "1  https://www.gisaid.org/EPI_ISL_403963  GISAID  taxonomy:2697049   \n",
       "2  https://www.gisaid.org/EPI_ISL_403962  GISAID  taxonomy:2697049   \n",
       "3  https://www.gisaid.org/EPI_ISL_402120    NMDC  taxonomy:2697049   \n",
       "4  https://www.gisaid.org/EPI_ISL_402119    NMDC  taxonomy:2697049   \n",
       "\n",
       "  hostTaxonomyId lineage sequenceLength sequenceQuality qualityAssessment  \\\n",
       "0  taxonomy:9606       B          29848            High         0/0/-/-/-   \n",
       "1  taxonomy:9606       B          29859            High         0/0/-/-/-   \n",
       "2  taxonomy:9606       B          29848            High         0/0/-/-/-   \n",
       "3  taxonomy:9606       B          29896            High         0/0/-/-/-   \n",
       "4  taxonomy:9606       B          29891            High         0/0/-/-/-   \n",
       "\n",
       "  collectionDate                       location                  origLocation  \\\n",
       "0     2019-12-30                  China / Hubei                   China,Hubei   \n",
       "1     2020-01-13  Thailand/ Nonthaburi Province  Thailand,Nonthaburi Province   \n",
       "2     2020-01-08  Thailand/ Nonthaburi Province  Thailand,Nonthaburi Province   \n",
       "3     2020-01-01          China / Hubei / Wuhan             China,Hubei,Wuhan   \n",
       "4     2019-12-30          China / Hubei / Wuhan             China,Hubei,Wuhan   \n",
       "\n",
       "                                      originatingLab  \n",
       "0  Hubei Provincial Center for Disease Control an...  \n",
       "1  Department of Medical Sciences, Ministry of Pu...  \n",
       "2  Department of Medical Sciences, Ministry of Pu...  \n",
       "3  National Institute for Viral Disease Control a...  \n",
       "4  National Institute for Viral Disease Control a...  "
      ]
     },
     "execution_count": 47,
     "metadata": {},
     "output_type": "execute_result"
    }
   ],
   "source": [
    "strains.head()"
   ]
  },
  {
   "cell_type": "code",
   "execution_count": 48,
   "metadata": {},
   "outputs": [],
   "source": [
    "strains_acc = strains[['accession', 'accessions']].copy()\n",
    "strains_acc['id'] = strains_acc['accessions'].str.split(';')\n",
    "strains_acc = strains_acc.explode('id')\n",
    "strains_acc['id'] = strains_acc['id'].str.strip()"
   ]
  },
  {
   "cell_type": "code",
   "execution_count": 49,
   "metadata": {},
   "outputs": [
    {
     "data": {
      "text/plain": [
       "(2791885, 3)"
      ]
     },
     "execution_count": 49,
     "metadata": {},
     "output_type": "execute_result"
    }
   ],
   "source": [
    "strains_acc.shape"
   ]
  },
  {
   "cell_type": "code",
   "execution_count": 50,
   "metadata": {},
   "outputs": [
    {
     "data": {
      "text/html": [
       "<div>\n",
       "<style scoped>\n",
       "    .dataframe tbody tr th:only-of-type {\n",
       "        vertical-align: middle;\n",
       "    }\n",
       "\n",
       "    .dataframe tbody tr th {\n",
       "        vertical-align: top;\n",
       "    }\n",
       "\n",
       "    .dataframe thead th {\n",
       "        text-align: right;\n",
       "    }\n",
       "</style>\n",
       "<table border=\"1\" class=\"dataframe\">\n",
       "  <thead>\n",
       "    <tr style=\"text-align: right;\">\n",
       "      <th></th>\n",
       "      <th>accession</th>\n",
       "      <th>accessions</th>\n",
       "      <th>id</th>\n",
       "    </tr>\n",
       "  </thead>\n",
       "  <tbody>\n",
       "    <tr>\n",
       "      <th>0</th>\n",
       "      <td>NMDC60013088-01</td>\n",
       "      <td>NMDC60013088-01;https://www.gisaid.org/EPI_ISL...</td>\n",
       "      <td>NMDC60013088-01</td>\n",
       "    </tr>\n",
       "    <tr>\n",
       "      <th>0</th>\n",
       "      <td>NMDC60013088-01</td>\n",
       "      <td>NMDC60013088-01;https://www.gisaid.org/EPI_ISL...</td>\n",
       "      <td>https://www.gisaid.org/EPI_ISL_402132</td>\n",
       "    </tr>\n",
       "    <tr>\n",
       "      <th>1</th>\n",
       "      <td>https://www.gisaid.org/EPI_ISL_403963</td>\n",
       "      <td>https://www.gisaid.org/EPI_ISL_403963</td>\n",
       "      <td>https://www.gisaid.org/EPI_ISL_403963</td>\n",
       "    </tr>\n",
       "    <tr>\n",
       "      <th>2</th>\n",
       "      <td>https://www.gisaid.org/EPI_ISL_403962</td>\n",
       "      <td>https://www.gisaid.org/EPI_ISL_403962</td>\n",
       "      <td>https://www.gisaid.org/EPI_ISL_403962</td>\n",
       "    </tr>\n",
       "    <tr>\n",
       "      <th>3</th>\n",
       "      <td>NMDC60013085-01</td>\n",
       "      <td>NMDC60013085-01;https://www.gisaid.org/EPI_ISL...</td>\n",
       "      <td>NMDC60013085-01</td>\n",
       "    </tr>\n",
       "  </tbody>\n",
       "</table>\n",
       "</div>"
      ],
      "text/plain": [
       "                               accession  \\\n",
       "0                        NMDC60013088-01   \n",
       "0                        NMDC60013088-01   \n",
       "1  https://www.gisaid.org/EPI_ISL_403963   \n",
       "2  https://www.gisaid.org/EPI_ISL_403962   \n",
       "3                        NMDC60013085-01   \n",
       "\n",
       "                                          accessions  \\\n",
       "0  NMDC60013088-01;https://www.gisaid.org/EPI_ISL...   \n",
       "0  NMDC60013088-01;https://www.gisaid.org/EPI_ISL...   \n",
       "1              https://www.gisaid.org/EPI_ISL_403963   \n",
       "2              https://www.gisaid.org/EPI_ISL_403962   \n",
       "3  NMDC60013085-01;https://www.gisaid.org/EPI_ISL...   \n",
       "\n",
       "                                      id  \n",
       "0                        NMDC60013088-01  \n",
       "0  https://www.gisaid.org/EPI_ISL_402132  \n",
       "1  https://www.gisaid.org/EPI_ISL_403963  \n",
       "2  https://www.gisaid.org/EPI_ISL_403962  \n",
       "3                        NMDC60013085-01  "
      ]
     },
     "execution_count": 50,
     "metadata": {},
     "output_type": "execute_result"
    }
   ],
   "source": [
    "strains_acc.head()"
   ]
  },
  {
   "cell_type": "code",
   "execution_count": 51,
   "metadata": {},
   "outputs": [
    {
     "data": {
      "text/plain": [
       "(2791885, 3)"
      ]
     },
     "execution_count": 51,
     "metadata": {},
     "output_type": "execute_result"
    }
   ],
   "source": [
    "strains_acc.drop_duplicates(inplace=True)\n",
    "strains_acc.shape"
   ]
  },
  {
   "cell_type": "markdown",
   "metadata": {},
   "source": [
    "### Map variants to strains"
   ]
  },
  {
   "cell_type": "code",
   "execution_count": 52,
   "metadata": {},
   "outputs": [],
   "source": [
    "var_ids = pd.DataFrame(variations['accession'].copy())\n",
    "var_ids.rename(columns={'accession': 'id'}, inplace=True)\n",
    "var_ids.drop_duplicates(inplace=True)"
   ]
  },
  {
   "cell_type": "code",
   "execution_count": 53,
   "metadata": {},
   "outputs": [
    {
     "data": {
      "text/html": [
       "<div>\n",
       "<style scoped>\n",
       "    .dataframe tbody tr th:only-of-type {\n",
       "        vertical-align: middle;\n",
       "    }\n",
       "\n",
       "    .dataframe tbody tr th {\n",
       "        vertical-align: top;\n",
       "    }\n",
       "\n",
       "    .dataframe thead th {\n",
       "        text-align: right;\n",
       "    }\n",
       "</style>\n",
       "<table border=\"1\" class=\"dataframe\">\n",
       "  <thead>\n",
       "    <tr style=\"text-align: right;\">\n",
       "      <th></th>\n",
       "      <th>id</th>\n",
       "    </tr>\n",
       "  </thead>\n",
       "  <tbody>\n",
       "    <tr>\n",
       "      <th>0</th>\n",
       "      <td>https://www.gisaid.org/EPI_ISL_423010</td>\n",
       "    </tr>\n",
       "    <tr>\n",
       "      <th>12</th>\n",
       "      <td>https://www.gisaid.org/EPI_ISL_423045</td>\n",
       "    </tr>\n",
       "    <tr>\n",
       "      <th>18</th>\n",
       "      <td>https://www.gisaid.org/EPI_ISL_415507</td>\n",
       "    </tr>\n",
       "    <tr>\n",
       "      <th>22</th>\n",
       "      <td>https://www.gisaid.org/EPI_ISL_414007</td>\n",
       "    </tr>\n",
       "    <tr>\n",
       "      <th>27</th>\n",
       "      <td>https://www.gisaid.org/EPI_ISL_419308</td>\n",
       "    </tr>\n",
       "  </tbody>\n",
       "</table>\n",
       "</div>"
      ],
      "text/plain": [
       "                                       id\n",
       "0   https://www.gisaid.org/EPI_ISL_423010\n",
       "12  https://www.gisaid.org/EPI_ISL_423045\n",
       "18  https://www.gisaid.org/EPI_ISL_415507\n",
       "22  https://www.gisaid.org/EPI_ISL_414007\n",
       "27  https://www.gisaid.org/EPI_ISL_419308"
      ]
     },
     "execution_count": 53,
     "metadata": {},
     "output_type": "execute_result"
    }
   ],
   "source": [
    "var_ids.head()"
   ]
  },
  {
   "cell_type": "code",
   "execution_count": 54,
   "metadata": {},
   "outputs": [
    {
     "data": {
      "text/plain": [
       "(5987, 1)"
      ]
     },
     "execution_count": 54,
     "metadata": {},
     "output_type": "execute_result"
    }
   ],
   "source": [
    "var_ids.shape"
   ]
  },
  {
   "cell_type": "code",
   "execution_count": 55,
   "metadata": {},
   "outputs": [],
   "source": [
    "strains_map = strains_acc.merge(var_ids, on='id')"
   ]
  },
  {
   "cell_type": "code",
   "execution_count": 56,
   "metadata": {},
   "outputs": [
    {
     "data": {
      "text/html": [
       "<div>\n",
       "<style scoped>\n",
       "    .dataframe tbody tr th:only-of-type {\n",
       "        vertical-align: middle;\n",
       "    }\n",
       "\n",
       "    .dataframe tbody tr th {\n",
       "        vertical-align: top;\n",
       "    }\n",
       "\n",
       "    .dataframe thead th {\n",
       "        text-align: right;\n",
       "    }\n",
       "</style>\n",
       "<table border=\"1\" class=\"dataframe\">\n",
       "  <thead>\n",
       "    <tr style=\"text-align: right;\">\n",
       "      <th></th>\n",
       "      <th>accession</th>\n",
       "      <th>accessions</th>\n",
       "      <th>id</th>\n",
       "    </tr>\n",
       "  </thead>\n",
       "  <tbody>\n",
       "    <tr>\n",
       "      <th>0</th>\n",
       "      <td>NMDC60013088-01</td>\n",
       "      <td>NMDC60013088-01;https://www.gisaid.org/EPI_ISL...</td>\n",
       "      <td>https://www.gisaid.org/EPI_ISL_402132</td>\n",
       "    </tr>\n",
       "    <tr>\n",
       "      <th>1</th>\n",
       "      <td>https://www.gisaid.org/EPI_ISL_403963</td>\n",
       "      <td>https://www.gisaid.org/EPI_ISL_403963</td>\n",
       "      <td>https://www.gisaid.org/EPI_ISL_403963</td>\n",
       "    </tr>\n",
       "    <tr>\n",
       "      <th>2</th>\n",
       "      <td>https://www.gisaid.org/EPI_ISL_403962</td>\n",
       "      <td>https://www.gisaid.org/EPI_ISL_403962</td>\n",
       "      <td>https://www.gisaid.org/EPI_ISL_403962</td>\n",
       "    </tr>\n",
       "    <tr>\n",
       "      <th>3</th>\n",
       "      <td>NMDC60013085-01</td>\n",
       "      <td>NMDC60013085-01;https://www.gisaid.org/EPI_ISL...</td>\n",
       "      <td>https://www.gisaid.org/EPI_ISL_402120</td>\n",
       "    </tr>\n",
       "    <tr>\n",
       "      <th>4</th>\n",
       "      <td>NMDC60013084-01</td>\n",
       "      <td>NMDC60013084-01;https://www.gisaid.org/EPI_ISL...</td>\n",
       "      <td>https://www.gisaid.org/EPI_ISL_402119</td>\n",
       "    </tr>\n",
       "  </tbody>\n",
       "</table>\n",
       "</div>"
      ],
      "text/plain": [
       "                               accession  \\\n",
       "0                        NMDC60013088-01   \n",
       "1  https://www.gisaid.org/EPI_ISL_403963   \n",
       "2  https://www.gisaid.org/EPI_ISL_403962   \n",
       "3                        NMDC60013085-01   \n",
       "4                        NMDC60013084-01   \n",
       "\n",
       "                                          accessions  \\\n",
       "0  NMDC60013088-01;https://www.gisaid.org/EPI_ISL...   \n",
       "1              https://www.gisaid.org/EPI_ISL_403963   \n",
       "2              https://www.gisaid.org/EPI_ISL_403962   \n",
       "3  NMDC60013085-01;https://www.gisaid.org/EPI_ISL...   \n",
       "4  NMDC60013084-01;https://www.gisaid.org/EPI_ISL...   \n",
       "\n",
       "                                      id  \n",
       "0  https://www.gisaid.org/EPI_ISL_402132  \n",
       "1  https://www.gisaid.org/EPI_ISL_403963  \n",
       "2  https://www.gisaid.org/EPI_ISL_403962  \n",
       "3  https://www.gisaid.org/EPI_ISL_402120  \n",
       "4  https://www.gisaid.org/EPI_ISL_402119  "
      ]
     },
     "execution_count": 56,
     "metadata": {},
     "output_type": "execute_result"
    }
   ],
   "source": [
    "strains_map.head()"
   ]
  },
  {
   "cell_type": "code",
   "execution_count": 57,
   "metadata": {},
   "outputs": [
    {
     "data": {
      "text/plain": [
       "(5983, 3)"
      ]
     },
     "execution_count": 57,
     "metadata": {},
     "output_type": "execute_result"
    }
   ],
   "source": [
    "strains_map.shape"
   ]
  },
  {
   "cell_type": "code",
   "execution_count": 58,
   "metadata": {},
   "outputs": [],
   "source": [
    "strains_var = strains.merge(strains_map[['accession', 'id']], on='accession', how='outer')"
   ]
  },
  {
   "cell_type": "code",
   "execution_count": 59,
   "metadata": {},
   "outputs": [],
   "source": [
    "strains_var['id'].fillna('', inplace=True)"
   ]
  },
  {
   "cell_type": "code",
   "execution_count": 60,
   "metadata": {},
   "outputs": [],
   "source": [
    "strains_var['id'] = strains_var[['id', 'accession']].apply(lambda x: x[0] if x[0] != '' else x[1], axis=1)"
   ]
  },
  {
   "cell_type": "code",
   "execution_count": 61,
   "metadata": {},
   "outputs": [
    {
     "data": {
      "text/plain": [
       "(1905435, 16)"
      ]
     },
     "execution_count": 61,
     "metadata": {},
     "output_type": "execute_result"
    }
   ],
   "source": [
    "strains_var.shape"
   ]
  },
  {
   "cell_type": "code",
   "execution_count": 62,
   "metadata": {},
   "outputs": [
    {
     "data": {
      "text/html": [
       "<div>\n",
       "<style scoped>\n",
       "    .dataframe tbody tr th:only-of-type {\n",
       "        vertical-align: middle;\n",
       "    }\n",
       "\n",
       "    .dataframe tbody tr th {\n",
       "        vertical-align: top;\n",
       "    }\n",
       "\n",
       "    .dataframe thead th {\n",
       "        text-align: right;\n",
       "    }\n",
       "</style>\n",
       "<table border=\"1\" class=\"dataframe\">\n",
       "  <thead>\n",
       "    <tr style=\"text-align: right;\">\n",
       "      <th></th>\n",
       "      <th>name</th>\n",
       "      <th>accession</th>\n",
       "      <th>accessions</th>\n",
       "      <th>gisaidId</th>\n",
       "      <th>source</th>\n",
       "      <th>taxonomyId</th>\n",
       "      <th>hostTaxonomyId</th>\n",
       "      <th>lineage</th>\n",
       "      <th>sequenceLength</th>\n",
       "      <th>sequenceQuality</th>\n",
       "      <th>qualityAssessment</th>\n",
       "      <th>collectionDate</th>\n",
       "      <th>location</th>\n",
       "      <th>origLocation</th>\n",
       "      <th>originatingLab</th>\n",
       "      <th>id</th>\n",
       "    </tr>\n",
       "  </thead>\n",
       "  <tbody>\n",
       "    <tr>\n",
       "      <th>0</th>\n",
       "      <td>BetaCoV/Wuhan/HBCDC-HB-01/2019</td>\n",
       "      <td>NMDC60013088-01</td>\n",
       "      <td>NMDC60013088-01;https://www.gisaid.org/EPI_ISL...</td>\n",
       "      <td>https://www.gisaid.org/EPI_ISL_402132</td>\n",
       "      <td>NMDC</td>\n",
       "      <td>taxonomy:2697049</td>\n",
       "      <td>taxonomy:9606</td>\n",
       "      <td>B</td>\n",
       "      <td>29848</td>\n",
       "      <td>High</td>\n",
       "      <td>0/0/-/-/-</td>\n",
       "      <td>2019-12-30</td>\n",
       "      <td>China / Hubei</td>\n",
       "      <td>China,Hubei</td>\n",
       "      <td>Hubei Provincial Center for Disease Control an...</td>\n",
       "      <td>https://www.gisaid.org/EPI_ISL_402132</td>\n",
       "    </tr>\n",
       "    <tr>\n",
       "      <th>1</th>\n",
       "      <td>hCoV-19/Thailand/74/2020</td>\n",
       "      <td>https://www.gisaid.org/EPI_ISL_403963</td>\n",
       "      <td>https://www.gisaid.org/EPI_ISL_403963</td>\n",
       "      <td>https://www.gisaid.org/EPI_ISL_403963</td>\n",
       "      <td>GISAID</td>\n",
       "      <td>taxonomy:2697049</td>\n",
       "      <td>taxonomy:9606</td>\n",
       "      <td>B</td>\n",
       "      <td>29859</td>\n",
       "      <td>High</td>\n",
       "      <td>0/0/-/-/-</td>\n",
       "      <td>2020-01-13</td>\n",
       "      <td>Thailand/ Nonthaburi Province</td>\n",
       "      <td>Thailand,Nonthaburi Province</td>\n",
       "      <td>Department of Medical Sciences, Ministry of Pu...</td>\n",
       "      <td>https://www.gisaid.org/EPI_ISL_403963</td>\n",
       "    </tr>\n",
       "    <tr>\n",
       "      <th>2</th>\n",
       "      <td>hCoV-19/Thailand/61/2020</td>\n",
       "      <td>https://www.gisaid.org/EPI_ISL_403962</td>\n",
       "      <td>https://www.gisaid.org/EPI_ISL_403962</td>\n",
       "      <td>https://www.gisaid.org/EPI_ISL_403962</td>\n",
       "      <td>GISAID</td>\n",
       "      <td>taxonomy:2697049</td>\n",
       "      <td>taxonomy:9606</td>\n",
       "      <td>B</td>\n",
       "      <td>29848</td>\n",
       "      <td>High</td>\n",
       "      <td>0/0/-/-/-</td>\n",
       "      <td>2020-01-08</td>\n",
       "      <td>Thailand/ Nonthaburi Province</td>\n",
       "      <td>Thailand,Nonthaburi Province</td>\n",
       "      <td>Department of Medical Sciences, Ministry of Pu...</td>\n",
       "      <td>https://www.gisaid.org/EPI_ISL_403962</td>\n",
       "    </tr>\n",
       "    <tr>\n",
       "      <th>3</th>\n",
       "      <td>BetaCoV/Wuhan/IVDC-HB-04/2020</td>\n",
       "      <td>NMDC60013085-01</td>\n",
       "      <td>NMDC60013085-01;https://www.gisaid.org/EPI_ISL...</td>\n",
       "      <td>https://www.gisaid.org/EPI_ISL_402120</td>\n",
       "      <td>NMDC</td>\n",
       "      <td>taxonomy:2697049</td>\n",
       "      <td>taxonomy:9606</td>\n",
       "      <td>B</td>\n",
       "      <td>29896</td>\n",
       "      <td>High</td>\n",
       "      <td>0/0/-/-/-</td>\n",
       "      <td>2020-01-01</td>\n",
       "      <td>China / Hubei / Wuhan</td>\n",
       "      <td>China,Hubei,Wuhan</td>\n",
       "      <td>National Institute for Viral Disease Control a...</td>\n",
       "      <td>https://www.gisaid.org/EPI_ISL_402120</td>\n",
       "    </tr>\n",
       "    <tr>\n",
       "      <th>4</th>\n",
       "      <td>BetaCoV/Wuhan/IVDC-HB-01/2019</td>\n",
       "      <td>NMDC60013084-01</td>\n",
       "      <td>NMDC60013084-01;https://www.gisaid.org/EPI_ISL...</td>\n",
       "      <td>https://www.gisaid.org/EPI_ISL_402119</td>\n",
       "      <td>NMDC</td>\n",
       "      <td>taxonomy:2697049</td>\n",
       "      <td>taxonomy:9606</td>\n",
       "      <td>B</td>\n",
       "      <td>29891</td>\n",
       "      <td>High</td>\n",
       "      <td>0/0/-/-/-</td>\n",
       "      <td>2019-12-30</td>\n",
       "      <td>China / Hubei / Wuhan</td>\n",
       "      <td>China,Hubei,Wuhan</td>\n",
       "      <td>National Institute for Viral Disease Control a...</td>\n",
       "      <td>https://www.gisaid.org/EPI_ISL_402119</td>\n",
       "    </tr>\n",
       "  </tbody>\n",
       "</table>\n",
       "</div>"
      ],
      "text/plain": [
       "                             name                              accession  \\\n",
       "0  BetaCoV/Wuhan/HBCDC-HB-01/2019                        NMDC60013088-01   \n",
       "1        hCoV-19/Thailand/74/2020  https://www.gisaid.org/EPI_ISL_403963   \n",
       "2        hCoV-19/Thailand/61/2020  https://www.gisaid.org/EPI_ISL_403962   \n",
       "3   BetaCoV/Wuhan/IVDC-HB-04/2020                        NMDC60013085-01   \n",
       "4   BetaCoV/Wuhan/IVDC-HB-01/2019                        NMDC60013084-01   \n",
       "\n",
       "                                          accessions  \\\n",
       "0  NMDC60013088-01;https://www.gisaid.org/EPI_ISL...   \n",
       "1              https://www.gisaid.org/EPI_ISL_403963   \n",
       "2              https://www.gisaid.org/EPI_ISL_403962   \n",
       "3  NMDC60013085-01;https://www.gisaid.org/EPI_ISL...   \n",
       "4  NMDC60013084-01;https://www.gisaid.org/EPI_ISL...   \n",
       "\n",
       "                                gisaidId  source        taxonomyId  \\\n",
       "0  https://www.gisaid.org/EPI_ISL_402132    NMDC  taxonomy:2697049   \n",
       "1  https://www.gisaid.org/EPI_ISL_403963  GISAID  taxonomy:2697049   \n",
       "2  https://www.gisaid.org/EPI_ISL_403962  GISAID  taxonomy:2697049   \n",
       "3  https://www.gisaid.org/EPI_ISL_402120    NMDC  taxonomy:2697049   \n",
       "4  https://www.gisaid.org/EPI_ISL_402119    NMDC  taxonomy:2697049   \n",
       "\n",
       "  hostTaxonomyId lineage sequenceLength sequenceQuality qualityAssessment  \\\n",
       "0  taxonomy:9606       B          29848            High         0/0/-/-/-   \n",
       "1  taxonomy:9606       B          29859            High         0/0/-/-/-   \n",
       "2  taxonomy:9606       B          29848            High         0/0/-/-/-   \n",
       "3  taxonomy:9606       B          29896            High         0/0/-/-/-   \n",
       "4  taxonomy:9606       B          29891            High         0/0/-/-/-   \n",
       "\n",
       "  collectionDate                       location                  origLocation  \\\n",
       "0     2019-12-30                  China / Hubei                   China,Hubei   \n",
       "1     2020-01-13  Thailand/ Nonthaburi Province  Thailand,Nonthaburi Province   \n",
       "2     2020-01-08  Thailand/ Nonthaburi Province  Thailand,Nonthaburi Province   \n",
       "3     2020-01-01          China / Hubei / Wuhan             China,Hubei,Wuhan   \n",
       "4     2019-12-30          China / Hubei / Wuhan             China,Hubei,Wuhan   \n",
       "\n",
       "                                      originatingLab  \\\n",
       "0  Hubei Provincial Center for Disease Control an...   \n",
       "1  Department of Medical Sciences, Ministry of Pu...   \n",
       "2  Department of Medical Sciences, Ministry of Pu...   \n",
       "3  National Institute for Viral Disease Control a...   \n",
       "4  National Institute for Viral Disease Control a...   \n",
       "\n",
       "                                      id  \n",
       "0  https://www.gisaid.org/EPI_ISL_402132  \n",
       "1  https://www.gisaid.org/EPI_ISL_403963  \n",
       "2  https://www.gisaid.org/EPI_ISL_403962  \n",
       "3  https://www.gisaid.org/EPI_ISL_402120  \n",
       "4  https://www.gisaid.org/EPI_ISL_402119  "
      ]
     },
     "execution_count": 62,
     "metadata": {},
     "output_type": "execute_result"
    }
   ],
   "source": [
    "strains_var.head()"
   ]
  },
  {
   "cell_type": "code",
   "execution_count": 63,
   "metadata": {},
   "outputs": [],
   "source": [
    "strains_var.to_csv(NEO4J_IMPORT / \"01c-CNCBStrain.csv\", index=False)"
   ]
  },
  {
   "cell_type": "code",
   "execution_count": 64,
   "metadata": {},
   "outputs": [
    {
     "name": "stdout",
     "output_type": "stream",
     "text": [
      "Time to map variants to strains: 71.6434257030487\n"
     ]
    }
   ],
   "source": [
    "t7 = time.time()\n",
    "print('Time to map variants to strains:', t7-t6)"
   ]
  },
  {
   "cell_type": "markdown",
   "metadata": {},
   "source": [
    "### Save unique variants\n",
    "To find all unique variants, drop the strain names and accession numbers. The remaining fields are variant specific."
   ]
  },
  {
   "cell_type": "code",
   "execution_count": 65,
   "metadata": {},
   "outputs": [
    {
     "name": "stdout",
     "output_type": "stream",
     "text": [
      "Number of unique variants: 12047\n"
     ]
    }
   ],
   "source": [
    "print('Number of unique variants:', len(variations['id'].unique()))"
   ]
  },
  {
   "cell_type": "code",
   "execution_count": 66,
   "metadata": {},
   "outputs": [],
   "source": [
    "variations.drop(columns=['name', 'accession'], inplace=True)"
   ]
  },
  {
   "cell_type": "code",
   "execution_count": 67,
   "metadata": {},
   "outputs": [],
   "source": [
    "variations.drop_duplicates(inplace=True)"
   ]
  },
  {
   "cell_type": "code",
   "execution_count": 68,
   "metadata": {},
   "outputs": [
    {
     "name": "stdout",
     "output_type": "stream",
     "text": [
      "Number of unique variants: 12127\n"
     ]
    }
   ],
   "source": [
    "# TODO there are a few cases with the same id but different variant data ???\n",
    "print('Number of unique variants:', variations.shape[0])"
   ]
  },
  {
   "cell_type": "code",
   "execution_count": 69,
   "metadata": {},
   "outputs": [
    {
     "data": {
      "text/html": [
       "<div>\n",
       "<style scoped>\n",
       "    .dataframe tbody tr th:only-of-type {\n",
       "        vertical-align: middle;\n",
       "    }\n",
       "\n",
       "    .dataframe tbody tr th {\n",
       "        vertical-align: top;\n",
       "    }\n",
       "\n",
       "    .dataframe thead th {\n",
       "        text-align: right;\n",
       "    }\n",
       "</style>\n",
       "<table border=\"1\" class=\"dataframe\">\n",
       "  <thead>\n",
       "    <tr style=\"text-align: right;\">\n",
       "      <th></th>\n",
       "      <th>variantType</th>\n",
       "      <th>start</th>\n",
       "      <th>end</th>\n",
       "      <th>ref</th>\n",
       "      <th>alt</th>\n",
       "      <th>variantConsequence</th>\n",
       "      <th>proteinVariant</th>\n",
       "      <th>geneVariant</th>\n",
       "      <th>distance</th>\n",
       "      <th>proteinPosition</th>\n",
       "      <th>proteinAccession</th>\n",
       "      <th>taxonomyId</th>\n",
       "      <th>referenceGenome</th>\n",
       "      <th>id</th>\n",
       "    </tr>\n",
       "  </thead>\n",
       "  <tbody>\n",
       "    <tr>\n",
       "      <th>0</th>\n",
       "      <td>Deletion</td>\n",
       "      <td>1</td>\n",
       "      <td>7</td>\n",
       "      <td>AATTAAAG</td>\n",
       "      <td>-</td>\n",
       "      <td>intergenic_variant</td>\n",
       "      <td></td>\n",
       "      <td></td>\n",
       "      <td></td>\n",
       "      <td></td>\n",
       "      <td></td>\n",
       "      <td>taxonomy:2697049</td>\n",
       "      <td>insdc:MN908947</td>\n",
       "      <td>insdc:MN908947:1-7-AATTAAAG--</td>\n",
       "    </tr>\n",
       "    <tr>\n",
       "      <th>1</th>\n",
       "      <td>SNP</td>\n",
       "      <td>34</td>\n",
       "      <td>34</td>\n",
       "      <td>A</td>\n",
       "      <td>T</td>\n",
       "      <td>intergenic_variant</td>\n",
       "      <td></td>\n",
       "      <td></td>\n",
       "      <td></td>\n",
       "      <td></td>\n",
       "      <td></td>\n",
       "      <td>taxonomy:2697049</td>\n",
       "      <td>insdc:MN908947</td>\n",
       "      <td>insdc:MN908947:34-34-A-T</td>\n",
       "    </tr>\n",
       "    <tr>\n",
       "      <th>2</th>\n",
       "      <td>SNP</td>\n",
       "      <td>35</td>\n",
       "      <td>35</td>\n",
       "      <td>A</td>\n",
       "      <td>T</td>\n",
       "      <td>intergenic_variant</td>\n",
       "      <td></td>\n",
       "      <td></td>\n",
       "      <td></td>\n",
       "      <td></td>\n",
       "      <td></td>\n",
       "      <td>taxonomy:2697049</td>\n",
       "      <td>insdc:MN908947</td>\n",
       "      <td>insdc:MN908947:35-35-A-T</td>\n",
       "    </tr>\n",
       "    <tr>\n",
       "      <th>3</th>\n",
       "      <td>SNP</td>\n",
       "      <td>36</td>\n",
       "      <td>36</td>\n",
       "      <td>C</td>\n",
       "      <td>T</td>\n",
       "      <td>intergenic_variant</td>\n",
       "      <td></td>\n",
       "      <td></td>\n",
       "      <td></td>\n",
       "      <td></td>\n",
       "      <td></td>\n",
       "      <td>taxonomy:2697049</td>\n",
       "      <td>insdc:MN908947</td>\n",
       "      <td>insdc:MN908947:36-36-C-T</td>\n",
       "    </tr>\n",
       "    <tr>\n",
       "      <th>4</th>\n",
       "      <td>SNP</td>\n",
       "      <td>37</td>\n",
       "      <td>37</td>\n",
       "      <td>C</td>\n",
       "      <td>A</td>\n",
       "      <td>intergenic_variant</td>\n",
       "      <td></td>\n",
       "      <td></td>\n",
       "      <td></td>\n",
       "      <td></td>\n",
       "      <td></td>\n",
       "      <td>taxonomy:2697049</td>\n",
       "      <td>insdc:MN908947</td>\n",
       "      <td>insdc:MN908947:37-37-C-A</td>\n",
       "    </tr>\n",
       "  </tbody>\n",
       "</table>\n",
       "</div>"
      ],
      "text/plain": [
       "  variantType  start  end       ref alt  variantConsequence proteinVariant  \\\n",
       "0    Deletion      1    7  AATTAAAG   -  intergenic_variant                  \n",
       "1         SNP     34   34         A   T  intergenic_variant                  \n",
       "2         SNP     35   35         A   T  intergenic_variant                  \n",
       "3         SNP     36   36         C   T  intergenic_variant                  \n",
       "4         SNP     37   37         C   A  intergenic_variant                  \n",
       "\n",
       "  geneVariant distance proteinPosition proteinAccession        taxonomyId  \\\n",
       "0                                                        taxonomy:2697049   \n",
       "1                                                        taxonomy:2697049   \n",
       "2                                                        taxonomy:2697049   \n",
       "3                                                        taxonomy:2697049   \n",
       "4                                                        taxonomy:2697049   \n",
       "\n",
       "  referenceGenome                             id  \n",
       "0  insdc:MN908947  insdc:MN908947:1-7-AATTAAAG--  \n",
       "1  insdc:MN908947       insdc:MN908947:34-34-A-T  \n",
       "2  insdc:MN908947       insdc:MN908947:35-35-A-T  \n",
       "3  insdc:MN908947       insdc:MN908947:36-36-C-T  \n",
       "4  insdc:MN908947       insdc:MN908947:37-37-C-A  "
      ]
     },
     "execution_count": 69,
     "metadata": {},
     "output_type": "execute_result"
    }
   ],
   "source": [
    "variations.head()"
   ]
  },
  {
   "cell_type": "code",
   "execution_count": 70,
   "metadata": {},
   "outputs": [],
   "source": [
    "variations.to_csv(NEO4J_IMPORT / \"01c-CNCBVariant.csv\", index=False)"
   ]
  }
 ],
 "metadata": {
  "kernelspec": {
   "display_name": "Python 3",
   "language": "python",
   "name": "python3"
  },
  "language_info": {
   "codemirror_mode": {
    "name": "ipython",
    "version": 3
   },
   "file_extension": ".py",
   "mimetype": "text/x-python",
   "name": "python",
   "nbconvert_exporter": "python",
   "pygments_lexer": "ipython3",
   "version": "3.7.10"
  }
 },
 "nbformat": 4,
 "nbformat_minor": 4
}
