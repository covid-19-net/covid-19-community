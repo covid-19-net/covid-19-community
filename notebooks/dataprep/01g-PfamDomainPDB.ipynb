{
 "cells": [
  {
   "cell_type": "markdown",
   "metadata": {},
   "source": [
    "# Downloads PDB - Pfam Domain Mappings\n",
    "**[Work in progress]**\n",
    "\n",
    "This notebook downloads Pfam domain information for PDB structures.\n",
    "\n",
    "Data source: [Pfam](https://pfam.xfam.org/)\n",
    "\n",
    "Author: Peter Rose (pwrose@ucsd.edu)"
   ]
  },
  {
   "cell_type": "code",
   "execution_count": 1,
   "metadata": {},
   "outputs": [],
   "source": [
    "import os\n",
    "import pandas as pd\n",
    "from pathlib import Path"
   ]
  },
  {
   "cell_type": "code",
   "execution_count": 2,
   "metadata": {},
   "outputs": [],
   "source": [
    "pd.options.display.max_rows = None  # display all rows\n",
    "pd.options.display.max_columns = None  # display all columsns"
   ]
  },
  {
   "cell_type": "code",
   "execution_count": 3,
   "metadata": {},
   "outputs": [
    {
     "name": "stdout",
     "output_type": "stream",
     "text": [
      "/Users/peter/Library/Application Support/com.Neo4j.Relate/data/dbmss/dbms-8bf637fc-0d20-4d9f-9c6f-f7e72e92a4da/import\n"
     ]
    }
   ],
   "source": [
    "NEO4J_IMPORT = Path(os.getenv('NEO4J_IMPORT'))\n",
    "print(NEO4J_IMPORT)"
   ]
  },
  {
   "cell_type": "markdown",
   "metadata": {},
   "source": [
    "### Download data"
   ]
  },
  {
   "cell_type": "code",
   "execution_count": 4,
   "metadata": {},
   "outputs": [],
   "source": [
    "pdb_pfam_url = 'ftp://ftp.ebi.ac.uk/pub/databases/Pfam/mappings/pdb_pfam_mapping.txt'"
   ]
  },
  {
   "cell_type": "code",
   "execution_count": 8,
   "metadata": {},
   "outputs": [],
   "source": [
    "df = pd.read_csv(pdb_pfam_url, sep='\\t', dtype=str, skiprows=1)"
   ]
  },
  {
   "cell_type": "code",
   "execution_count": 9,
   "metadata": {},
   "outputs": [
    {
     "data": {
      "text/html": [
       "<div>\n",
       "<style scoped>\n",
       "    .dataframe tbody tr th:only-of-type {\n",
       "        vertical-align: middle;\n",
       "    }\n",
       "\n",
       "    .dataframe tbody tr th {\n",
       "        vertical-align: top;\n",
       "    }\n",
       "\n",
       "    .dataframe thead th {\n",
       "        text-align: right;\n",
       "    }\n",
       "</style>\n",
       "<table border=\"1\" class=\"dataframe\">\n",
       "  <thead>\n",
       "    <tr style=\"text-align: right;\">\n",
       "      <th></th>\n",
       "      <th>PDB</th>\n",
       "      <th>CHAIN</th>\n",
       "      <th>PDB_START</th>\n",
       "      <th>PDB_END</th>\n",
       "      <th>PFAM_ACCESSION</th>\n",
       "      <th>PFAM_NAME</th>\n",
       "    </tr>\n",
       "  </thead>\n",
       "  <tbody>\n",
       "    <tr>\n",
       "      <th>0</th>\n",
       "      <td>101m</td>\n",
       "      <td>A</td>\n",
       "      <td>7</td>\n",
       "      <td>113</td>\n",
       "      <td>PF00042</td>\n",
       "      <td>Globin</td>\n",
       "    </tr>\n",
       "    <tr>\n",
       "      <th>1</th>\n",
       "      <td>102m</td>\n",
       "      <td>A</td>\n",
       "      <td>7</td>\n",
       "      <td>113</td>\n",
       "      <td>PF00042</td>\n",
       "      <td>Globin</td>\n",
       "    </tr>\n",
       "    <tr>\n",
       "      <th>2</th>\n",
       "      <td>103m</td>\n",
       "      <td>A</td>\n",
       "      <td>7</td>\n",
       "      <td>113</td>\n",
       "      <td>PF00042</td>\n",
       "      <td>Globin</td>\n",
       "    </tr>\n",
       "    <tr>\n",
       "      <th>3</th>\n",
       "      <td>104m</td>\n",
       "      <td>A</td>\n",
       "      <td>6</td>\n",
       "      <td>112</td>\n",
       "      <td>PF00042</td>\n",
       "      <td>Globin</td>\n",
       "    </tr>\n",
       "    <tr>\n",
       "      <th>4</th>\n",
       "      <td>105m</td>\n",
       "      <td>A</td>\n",
       "      <td>6</td>\n",
       "      <td>112</td>\n",
       "      <td>PF00042</td>\n",
       "      <td>Globin</td>\n",
       "    </tr>\n",
       "  </tbody>\n",
       "</table>\n",
       "</div>"
      ],
      "text/plain": [
       "    PDB CHAIN PDB_START PDB_END PFAM_ACCESSION PFAM_NAME\n",
       "0  101m     A         7     113        PF00042    Globin\n",
       "1  102m     A         7     113        PF00042    Globin\n",
       "2  103m     A         7     113        PF00042    Globin\n",
       "3  104m     A         6     112        PF00042    Globin\n",
       "4  105m     A         6     112        PF00042    Globin"
      ]
     },
     "execution_count": 9,
     "metadata": {},
     "output_type": "execute_result"
    }
   ],
   "source": [
    "df.head()"
   ]
  },
  {
   "cell_type": "markdown",
   "metadata": {},
   "source": [
    "### Assign CURIEs and standard names"
   ]
  },
  {
   "cell_type": "code",
   "execution_count": 10,
   "metadata": {},
   "outputs": [],
   "source": [
    "df['accession'] = 'pfam:' + df['PFAM_ACCESSION'].str.split('.', expand=True)[0]"
   ]
  },
  {
   "cell_type": "code",
   "execution_count": 11,
   "metadata": {},
   "outputs": [],
   "source": [
    "df['pdbChainId'] = 'pdb:' + df['PDB'] + '.' + df['CHAIN']"
   ]
  },
  {
   "cell_type": "code",
   "execution_count": 12,
   "metadata": {},
   "outputs": [],
   "source": [
    "df.rename(columns={'PFAM_NAME': 'name'}, inplace=True)\n",
    "df.rename(columns={'PDB_START': 'start'}, inplace=True)\n",
    "df.rename(columns={'PDB_END': 'end'}, inplace=True)"
   ]
  },
  {
   "cell_type": "code",
   "execution_count": 13,
   "metadata": {},
   "outputs": [
    {
     "data": {
      "text/html": [
       "<div>\n",
       "<style scoped>\n",
       "    .dataframe tbody tr th:only-of-type {\n",
       "        vertical-align: middle;\n",
       "    }\n",
       "\n",
       "    .dataframe tbody tr th {\n",
       "        vertical-align: top;\n",
       "    }\n",
       "\n",
       "    .dataframe thead th {\n",
       "        text-align: right;\n",
       "    }\n",
       "</style>\n",
       "<table border=\"1\" class=\"dataframe\">\n",
       "  <thead>\n",
       "    <tr style=\"text-align: right;\">\n",
       "      <th></th>\n",
       "      <th>PDB</th>\n",
       "      <th>CHAIN</th>\n",
       "      <th>start</th>\n",
       "      <th>end</th>\n",
       "      <th>PFAM_ACCESSION</th>\n",
       "      <th>name</th>\n",
       "      <th>accession</th>\n",
       "      <th>pdbChainId</th>\n",
       "    </tr>\n",
       "  </thead>\n",
       "  <tbody>\n",
       "    <tr>\n",
       "      <th>0</th>\n",
       "      <td>101m</td>\n",
       "      <td>A</td>\n",
       "      <td>7</td>\n",
       "      <td>113</td>\n",
       "      <td>PF00042</td>\n",
       "      <td>Globin</td>\n",
       "      <td>pfam:PF00042</td>\n",
       "      <td>pdb:101m.A</td>\n",
       "    </tr>\n",
       "    <tr>\n",
       "      <th>1</th>\n",
       "      <td>102m</td>\n",
       "      <td>A</td>\n",
       "      <td>7</td>\n",
       "      <td>113</td>\n",
       "      <td>PF00042</td>\n",
       "      <td>Globin</td>\n",
       "      <td>pfam:PF00042</td>\n",
       "      <td>pdb:102m.A</td>\n",
       "    </tr>\n",
       "    <tr>\n",
       "      <th>2</th>\n",
       "      <td>103m</td>\n",
       "      <td>A</td>\n",
       "      <td>7</td>\n",
       "      <td>113</td>\n",
       "      <td>PF00042</td>\n",
       "      <td>Globin</td>\n",
       "      <td>pfam:PF00042</td>\n",
       "      <td>pdb:103m.A</td>\n",
       "    </tr>\n",
       "    <tr>\n",
       "      <th>3</th>\n",
       "      <td>104m</td>\n",
       "      <td>A</td>\n",
       "      <td>6</td>\n",
       "      <td>112</td>\n",
       "      <td>PF00042</td>\n",
       "      <td>Globin</td>\n",
       "      <td>pfam:PF00042</td>\n",
       "      <td>pdb:104m.A</td>\n",
       "    </tr>\n",
       "    <tr>\n",
       "      <th>4</th>\n",
       "      <td>105m</td>\n",
       "      <td>A</td>\n",
       "      <td>6</td>\n",
       "      <td>112</td>\n",
       "      <td>PF00042</td>\n",
       "      <td>Globin</td>\n",
       "      <td>pfam:PF00042</td>\n",
       "      <td>pdb:105m.A</td>\n",
       "    </tr>\n",
       "  </tbody>\n",
       "</table>\n",
       "</div>"
      ],
      "text/plain": [
       "    PDB CHAIN start  end PFAM_ACCESSION    name     accession  pdbChainId\n",
       "0  101m     A     7  113        PF00042  Globin  pfam:PF00042  pdb:101m.A\n",
       "1  102m     A     7  113        PF00042  Globin  pfam:PF00042  pdb:102m.A\n",
       "2  103m     A     7  113        PF00042  Globin  pfam:PF00042  pdb:103m.A\n",
       "3  104m     A     6  112        PF00042  Globin  pfam:PF00042  pdb:104m.A\n",
       "4  105m     A     6  112        PF00042  Globin  pfam:PF00042  pdb:105m.A"
      ]
     },
     "execution_count": 13,
     "metadata": {},
     "output_type": "execute_result"
    }
   ],
   "source": [
    "df.head()"
   ]
  },
  {
   "cell_type": "markdown",
   "metadata": {},
   "source": [
    "### Add PDB entity id to domains to identify identical chains (Pfam only annotates a single unique chain in each PDB)"
   ]
  },
  {
   "cell_type": "code",
   "execution_count": 14,
   "metadata": {},
   "outputs": [],
   "source": [
    "chains = pd.read_csv(NEO4J_IMPORT / \"01f-PDBChain.csv\", dtype='str')\n",
    "chains = chains[['pdbChainId', 'entityId']]"
   ]
  },
  {
   "cell_type": "code",
   "execution_count": 15,
   "metadata": {},
   "outputs": [],
   "source": [
    "df = df.merge(chains, on='pdbChainId')\n",
    "df.fillna('', inplace=True)"
   ]
  },
  {
   "cell_type": "code",
   "execution_count": 16,
   "metadata": {},
   "outputs": [
    {
     "data": {
      "text/html": [
       "<div>\n",
       "<style scoped>\n",
       "    .dataframe tbody tr th:only-of-type {\n",
       "        vertical-align: middle;\n",
       "    }\n",
       "\n",
       "    .dataframe tbody tr th {\n",
       "        vertical-align: top;\n",
       "    }\n",
       "\n",
       "    .dataframe thead th {\n",
       "        text-align: right;\n",
       "    }\n",
       "</style>\n",
       "<table border=\"1\" class=\"dataframe\">\n",
       "  <thead>\n",
       "    <tr style=\"text-align: right;\">\n",
       "      <th></th>\n",
       "      <th>PDB</th>\n",
       "      <th>CHAIN</th>\n",
       "      <th>start</th>\n",
       "      <th>end</th>\n",
       "      <th>PFAM_ACCESSION</th>\n",
       "      <th>name</th>\n",
       "      <th>accession</th>\n",
       "      <th>pdbChainId</th>\n",
       "      <th>entityId</th>\n",
       "    </tr>\n",
       "  </thead>\n",
       "  <tbody>\n",
       "    <tr>\n",
       "      <th>0</th>\n",
       "      <td>1914</td>\n",
       "      <td>A</td>\n",
       "      <td>23</td>\n",
       "      <td>113</td>\n",
       "      <td>PF02290</td>\n",
       "      <td>SRP14</td>\n",
       "      <td>pfam:PF02290</td>\n",
       "      <td>pdb:1914.A</td>\n",
       "      <td>1</td>\n",
       "    </tr>\n",
       "  </tbody>\n",
       "</table>\n",
       "</div>"
      ],
      "text/plain": [
       "    PDB CHAIN start  end PFAM_ACCESSION   name     accession  pdbChainId  \\\n",
       "0  1914     A    23  113        PF02290  SRP14  pfam:PF02290  pdb:1914.A   \n",
       "\n",
       "  entityId  \n",
       "0        1  "
      ]
     },
     "execution_count": 16,
     "metadata": {},
     "output_type": "execute_result"
    }
   ],
   "source": [
    "df.head()"
   ]
  },
  {
   "cell_type": "code",
   "execution_count": 17,
   "metadata": {},
   "outputs": [],
   "source": [
    "df.to_csv(NEO4J_IMPORT / \"01g-PfamDomainPDB.csv\", index=False)"
   ]
  },
  {
   "cell_type": "code",
   "execution_count": null,
   "metadata": {},
   "outputs": [],
   "source": []
  }
 ],
 "metadata": {
  "kernelspec": {
   "display_name": "Python 3",
   "language": "python",
   "name": "python3"
  },
  "language_info": {
   "codemirror_mode": {
    "name": "ipython",
    "version": 3
   },
   "file_extension": ".py",
   "mimetype": "text/x-python",
   "name": "python",
   "nbconvert_exporter": "python",
   "pygments_lexer": "ipython3",
   "version": "3.7.10"
  }
 },
 "nbformat": 4,
 "nbformat_minor": 4
}
